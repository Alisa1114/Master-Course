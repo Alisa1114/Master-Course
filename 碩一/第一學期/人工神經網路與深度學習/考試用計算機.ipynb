{
 "cells": [
  {
   "cell_type": "code",
   "execution_count": 1,
   "metadata": {},
   "outputs": [],
   "source": [
    "import numpy as np\n",
    "from scipy.special import expit, softmax"
   ]
  },
  {
   "cell_type": "code",
   "execution_count": 42,
   "metadata": {},
   "outputs": [
    {
     "name": "stdout",
     "output_type": "stream",
     "text": [
      "wx:\n",
      " [-7.4  7.4]\n",
      "sigmoid:\n",
      " [6.10879359e-04 9.99389121e-01]\n",
      "softmax:\n",
      " [0.2691817 0.7308183]\n"
     ]
    }
   ],
   "source": [
    "w = [[1,-1],\n",
    "     [-2,1]]\n",
    "x = [0,7.4]\n",
    "\n",
    "w, x = np.array(w), np.array(x)\n",
    "\n",
    "s = np.matmul(w,x)\n",
    "\n",
    "a = expit(s)\n",
    "\n",
    "y = softmax(a)\n",
    "\n",
    "print(\"wx:\\n {}\\nsigmoid:\\n {}\\nsoftmax:\\n {}\".format(s, a, y))"
   ]
  },
  {
   "cell_type": "code",
   "execution_count": 43,
   "metadata": {},
   "outputs": [
    {
     "data": {
      "text/plain": [
       "array([6.10879359e-04, 9.99389121e-01])"
      ]
     },
     "execution_count": 43,
     "metadata": {},
     "output_type": "execute_result"
    }
   ],
   "source": [
    "a=np.array([0,7.4])\n",
    "softmax(a)"
   ]
  },
  {
   "cell_type": "code",
   "execution_count": 21,
   "metadata": {},
   "outputs": [],
   "source": [
    "def convolution(img, kernel):\n",
    "    img_size = img.shape[0]\n",
    "    kernel_size = kernel.shape[0]\n",
    "    new_img_size = img_size - kernel_size + 1\n",
    "    # 準備新圖片\n",
    "    new_img = np.zeros((new_img_size, new_img_size))\n",
    "    \n",
    "    # 經典雙迴圈\n",
    "    for i in range(new_img_size):\n",
    "        for j in range(new_img_size):\n",
    "            value = 0\n",
    "            # 經典雙雙迴圈 加大不加價(誤)\n",
    "            # print(i,i+kernel_size)\n",
    "            # print(img[i:i+kernel_size][j:j+kernel_size])\n",
    "            new_img[i][j] = (img[i:i+kernel_size, j:j+kernel_size] * kernel).sum()\n",
    "            \n",
    "            # for ki in range(kernel_size):\n",
    "            #     for kj in range(kernel_size):\n",
    "            #         value += img[i+ki][j+kj] * kernel[ki][kj]\n",
    "            # new_img[i][j] = value\n",
    "    return new_img"
   ]
  },
  {
   "cell_type": "code",
   "execution_count": 40,
   "metadata": {},
   "outputs": [
    {
     "name": "stdout",
     "output_type": "stream",
     "text": [
      "convolution:\n",
      " [[-28.  14. -26.   4.]\n",
      " [-18.  16. -16.   6.]\n",
      " [-18.  16. -16.   6.]\n",
      " [-28.  14. -26.   4.]]\n"
     ]
    }
   ],
   "source": [
    "img = [[0,0,0,0,0,0],\n",
    "       [0,5,1,5,1,0],\n",
    "       [0,5,1,5,1,0],\n",
    "       [0,5,1,5,1,0],\n",
    "       [0,5,1,5,1,0],\n",
    "       [0,0,0,0,0,0]]\n",
    "\n",
    "kernel = [[0,2,0],\n",
    "          [2,-8,2],\n",
    "          [0,2,0]]\n",
    "\n",
    "img = np.array(img)\n",
    "kernel = np.array(kernel)\n",
    "\n",
    "# print(img.shape, kernel.shape)\n",
    "\n",
    "outputs = convolution(img, kernel)\n",
    "\n",
    "print('convolution:\\n {}'.format(outputs))"
   ]
  },
  {
   "cell_type": "code",
   "execution_count": null,
   "metadata": {},
   "outputs": [],
   "source": []
  },
  {
   "cell_type": "code",
   "execution_count": null,
   "metadata": {},
   "outputs": [],
   "source": []
  }
 ],
 "metadata": {
  "kernelspec": {
   "display_name": "Python 3.8.13 ('base')",
   "language": "python",
   "name": "python3"
  },
  "language_info": {
   "codemirror_mode": {
    "name": "ipython",
    "version": 3
   },
   "file_extension": ".py",
   "mimetype": "text/x-python",
   "name": "python",
   "nbconvert_exporter": "python",
   "pygments_lexer": "ipython3",
   "version": "3.8.0"
  },
  "orig_nbformat": 4,
  "vscode": {
   "interpreter": {
    "hash": "f11f329b739e069ee571d9dc315b22363bc0f5d5f61058b9d390d5111cbd0926"
   }
  }
 },
 "nbformat": 4,
 "nbformat_minor": 2
}
