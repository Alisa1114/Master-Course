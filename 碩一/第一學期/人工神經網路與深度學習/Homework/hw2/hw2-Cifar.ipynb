{
 "cells": [
  {
   "cell_type": "code",
   "execution_count": 1,
   "metadata": {},
   "outputs": [],
   "source": [
    "import torch\n",
    "import torch.nn as nn\n",
    "from torch.utils.data import Dataset, DataLoader\n",
    "import cv2\n",
    "import torchvision.transforms as transforms\n",
    "from torchvision.datasets import ImageFolder\n",
    "import os\n",
    "from os import listdir\n",
    "from os.path import isfile, join\n",
    "import random\n",
    "import numpy as np\n",
    "\n",
    "seed = 123\n",
    "torch.manual_seed(seed)\n",
    "torch.cuda.manual_seed(seed)\n",
    "torch.cuda.manual_seed_all(seed)\n",
    "np.random.seed(seed)\n",
    "random.seed(seed)\n",
    "torch.backends.cudnn.benchmark = False\n",
    "torch.backends.cudnn.deterministic = True"
   ]
  },
  {
   "cell_type": "code",
   "execution_count": 2,
   "metadata": {},
   "outputs": [],
   "source": [
    "from PIL import Image\n",
    "\n",
    "class train_dataset(Dataset):\n",
    "\n",
    "    def __init__(self, dataset_path, transform=None):\n",
    "        self.dataset_path = dataset_path\n",
    "        self.transform = transform\n",
    "        self.img_path = []\n",
    "        self.labels = []\n",
    "        \n",
    "        for l in range(5):\n",
    "            labelPath = join(dataset_path, str(l))\n",
    "            file_names = [f for f in listdir(labelPath) if isfile(join(labelPath, f))]\n",
    "            \n",
    "            for file_name in file_names:\n",
    "                self.img_path.append([join(labelPath, file_name), file_name])\n",
    "                self.labels.append(l)\n",
    "\n",
    "    def __len__(self):\n",
    "        return len(self.img_path)\n",
    "\n",
    "    def __getitem__(self, index):\n",
    "        path, name = self.img_path[index]\n",
    "        image = Image.open(path)\n",
    "        if self.transform:\n",
    "            image = self.transform(image)\n",
    "        return image, self.labels[index]\n",
    "\n",
    "\n",
    "class test_dataset(Dataset):\n",
    "\n",
    "    def __init__(self, dataset_path, transform=None):\n",
    "        self.dataset_path = dataset_path\n",
    "        self.transform = transform\n",
    "        self.img_path = []\n",
    "        file_names = [\n",
    "            f for f in listdir(dataset_path) if isfile(join(dataset_path, f))\n",
    "        ]\n",
    "        file_names.sort()\n",
    "        for file_name in file_names:\n",
    "            self.img_path.append([join(dataset_path, file_name), file_name])\n",
    "\n",
    "    def __len__(self):\n",
    "        return len(self.img_path)\n",
    "\n",
    "    def __getitem__(self, index):\n",
    "        path, name = self.img_path[index]\n",
    "        image = Image.open(path)\n",
    "        if self.transform:\n",
    "            image = self.transform(image)\n",
    "        return image, name\n"
   ]
  },
  {
   "cell_type": "code",
   "execution_count": 3,
   "metadata": {},
   "outputs": [],
   "source": [
    "class VGG16(nn.Module):\n",
    "    def __init__(self, num_classes=100):\n",
    "        super(VGG16, self).__init__()\n",
    "        self.cfg = [64, 64, 'M', 128, 128, 'M', 256, 256, 256, 'M', 512, 512, 512, 'M', 512, 512, 512, 'M']\n",
    "        self.cnn = self.build_layers()\n",
    "        self.fc = nn.Sequential(nn.Linear(512, 1024, bias=False),\n",
    "                                nn.BatchNorm1d(1024), nn.ReLU(True),\n",
    "                                nn.Linear(1024, 1024, bias=False),\n",
    "                                nn.BatchNorm1d(1024), nn.ReLU(True),\n",
    "                                nn.Linear(1024, num_classes))\n",
    "\n",
    "    def build_layers(self):\n",
    "        layers = []\n",
    "        in_channels = 3\n",
    "        for c in self.cfg:\n",
    "            if c == 'M':\n",
    "                layers += [nn.MaxPool2d(2, 2)]\n",
    "            else:\n",
    "                layers += [nn.Conv2d(in_channels, c, 3, padding=1, bias=False),\n",
    "                           nn.BatchNorm2d(c),\n",
    "                           nn.ReLU(True)]\n",
    "                in_channels = c\n",
    "        return nn.Sequential(*layers)\n",
    "\n",
    "    def forward(self, x):\n",
    "        x = self.cnn(x)\n",
    "        x = x.view(x.shape[0], -1)\n",
    "        x = self.fc(x)\n",
    "        return x"
   ]
  },
  {
   "cell_type": "code",
   "execution_count": 4,
   "metadata": {},
   "outputs": [],
   "source": [
    "class ResidualBlock(nn.Module):\n",
    "  def __init__(self, in_channels, out_channels, stride=1) -> None:\n",
    "    super(ResidualBlock, self).__init__()\n",
    "    self.block = nn.Sequential(\n",
    "      nn.Conv2d(in_channels, out_channels, 3, stride=stride, padding=1, bias=False),\n",
    "      nn.BatchNorm2d(out_channels),\n",
    "      nn.ReLU(True),\n",
    "      nn.Conv2d(out_channels, out_channels, 3, stride=1, padding=1, bias=False),\n",
    "      nn.BatchNorm2d(out_channels)      \n",
    "    )\n",
    "    self.short_cut = nn.Sequential()\n",
    "    if stride != 1 or in_channels != out_channels:\n",
    "      self.short_cut = nn.Sequential(\n",
    "        nn.Conv2d(in_channels, out_channels, 1, stride=stride, bias=False),\n",
    "        nn.BatchNorm2d(out_channels)\n",
    "      )\n",
    "    self.relu = nn.ReLU(True)\n",
    "      \n",
    "  def forward(self, x):\n",
    "    out = self.block(x)\n",
    "    out += self.short_cut(x)\n",
    "    out =  self.relu(out)\n",
    "    return out\n",
    "  \n",
    "\n",
    "class ResNet18(nn.Module):\n",
    "  def __init__(self, num_classes) -> None:\n",
    "    super(ResNet18, self).__init__()\n",
    "    self.cfg = []\n",
    "    self.in_channels = 64\n",
    "    self.conv1 = nn.Sequential(\n",
    "      nn.Conv2d(3, 64, 3, padding=1, bias=False),\n",
    "      nn.BatchNorm2d(64),\n",
    "      nn.ReLU(True)\n",
    "    )\n",
    "    self.conv2 = self.build_layers(64, 2, 1)\n",
    "    self.conv3 = self.build_layers(128, 2, 2)\n",
    "    self.conv4 = self.build_layers(256, 2, 2)\n",
    "    self.conv5 = self.build_layers(512, 2, 2)\n",
    "    self.fc = nn.Sequential(\n",
    "      nn.Linear(512, num_classes)\n",
    "    )\n",
    "    self.average_pooling = nn.AdaptiveAvgPool2d(1)\n",
    "  \n",
    "  def build_layers(self, channels, num_blocks, stride):\n",
    "    strides = [stride] + [1] * (num_blocks-1)\n",
    "    layers = []\n",
    "    for stride in strides:\n",
    "      layers.append(ResidualBlock(self.in_channels, channels, stride))\n",
    "      self.in_channels = channels\n",
    "    return nn.Sequential(*layers)\n",
    "  \n",
    "  def forward(self, x):\n",
    "    x = self.conv1(x)\n",
    "    x = self.conv2(x)\n",
    "    x = self.conv3(x)\n",
    "    x = self.conv4(x)\n",
    "    x = self.conv5(x)\n",
    "    x = self.average_pooling(x)\n",
    "    x = x.view(x.shape[0], -1)\n",
    "    x = self.fc(x)\n",
    "    return x\n",
    "  \n",
    "class ResNet34(nn.Module):\n",
    "  def __init__(self, num_classes) -> None:\n",
    "    super(ResNet34, self).__init__()\n",
    "    self.cfg = []\n",
    "    self.in_channels = 64\n",
    "    self.conv1 = nn.Sequential(\n",
    "      nn.Conv2d(3, 64, 3, padding=1, bias=False),\n",
    "      nn.BatchNorm2d(64),\n",
    "      nn.ReLU(True)\n",
    "    )\n",
    "    self.conv2 = self.build_layers(64, 3, 1)\n",
    "    self.conv3 = self.build_layers(128, 4, 2)\n",
    "    self.conv4 = self.build_layers(256, 6, 2)\n",
    "    self.conv5 = self.build_layers(512, 3, 2)\n",
    "    self.fc = nn.Sequential(\n",
    "      nn.Linear(512, num_classes)\n",
    "    )\n",
    "    self.average_pooling = nn.AdaptiveAvgPool2d(1)\n",
    "  \n",
    "  def build_layers(self, channels, num_blocks, stride):\n",
    "    strides = [stride] + [1] * (num_blocks-1)\n",
    "    layers = []\n",
    "    for stride in strides:\n",
    "      layers.append(ResidualBlock(self.in_channels, channels, stride))\n",
    "      self.in_channels = channels\n",
    "    return nn.Sequential(*layers)\n",
    "  \n",
    "  def forward(self, x):\n",
    "    x = self.conv1(x)\n",
    "    x = self.conv2(x)\n",
    "    x = self.conv3(x)\n",
    "    x = self.conv4(x)\n",
    "    x = self.conv5(x)\n",
    "    x = self.average_pooling(x)\n",
    "    x = x.view(x.shape[0], -1)\n",
    "    x = self.fc(x)\n",
    "    return x"
   ]
  },
  {
   "cell_type": "code",
   "execution_count": 5,
   "metadata": {},
   "outputs": [],
   "source": [
    "import torch.nn.functional as F\n",
    "\n",
    "class identity_block(nn.Module):\n",
    "\n",
    "    def __init__(self, num_filters, in_channel):\n",
    "        super(identity_block, self).__init__()\n",
    "        self.f1, self.f2, self.f3 = num_filters\n",
    "        self.conv1 = nn.Conv2d(in_channel,\n",
    "                               self.f1,\n",
    "                               kernel_size=(1, 1),\n",
    "                               bias=False)\n",
    "        self.batchnorm1 = nn.BatchNorm2d(self.f1)\n",
    "        self.conv2 = nn.Conv2d(self.f1,\n",
    "                               self.f2,\n",
    "                               kernel_size=(3, 3),\n",
    "                               padding='same',\n",
    "                               bias=False)\n",
    "        self.batchnorm2 = nn.BatchNorm2d(self.f2)\n",
    "        self.conv3 = nn.Conv2d(self.f2,\n",
    "                               self.f3,\n",
    "                               kernel_size=(1, 1),\n",
    "                               bias=False)\n",
    "        self.batchnorm3 = nn.BatchNorm2d(self.f3)\n",
    "\n",
    "    def forward(self, x):\n",
    "        x_shortcut = x\n",
    "        x = F.relu(self.batchnorm1(self.conv1(x)))\n",
    "        x = F.relu(self.batchnorm2(self.conv2(x)))\n",
    "        x = self.batchnorm3(self.conv3(x))\n",
    "        x += x_shortcut\n",
    "        x = F.relu(x)\n",
    "        return x\n",
    "\n",
    "\n",
    "class convolutional_block(nn.Module):\n",
    "\n",
    "    def __init__(self, num_filters, in_channel, strides):\n",
    "        super(convolutional_block, self).__init__()\n",
    "        self.f1, self.f2, self.f3 = num_filters\n",
    "        self.conv1 = nn.Conv2d(in_channel,\n",
    "                               self.f1,\n",
    "                               kernel_size=(1, 1),\n",
    "                               stride=strides,\n",
    "                               bias=False)\n",
    "        self.batchnorm1 = nn.BatchNorm2d(self.f1)\n",
    "        self.conv2 = nn.Conv2d(self.f1,\n",
    "                               self.f2,\n",
    "                               kernel_size=(3, 3),\n",
    "                               padding='same',\n",
    "                               bias=False)\n",
    "        self.batchnorm2 = nn.BatchNorm2d(self.f2)\n",
    "        self.conv3 = nn.Conv2d(self.f2,\n",
    "                               self.f3,\n",
    "                               kernel_size=(1, 1),\n",
    "                               bias=False)\n",
    "        self.batchnorm3 = nn.BatchNorm2d(self.f3)\n",
    "        self.conv_shortcut = nn.Conv2d(in_channel,\n",
    "                                       self.f3,\n",
    "                                       kernel_size=(1, 1),\n",
    "                                       stride=strides,\n",
    "                                       bias=False)\n",
    "        self.batchnorm_shortcut = nn.BatchNorm2d(self.f3)\n",
    "\n",
    "    def forward(self, x):\n",
    "        x_shortcut = x\n",
    "        x = F.relu(self.batchnorm1(self.conv1(x)))\n",
    "        x = F.relu(self.batchnorm2(self.conv2(x)))\n",
    "        x = self.batchnorm3(self.conv3(x))\n",
    "        x_shortcut = self.batchnorm_shortcut(self.conv_shortcut(x_shortcut))\n",
    "        x += x_shortcut\n",
    "        x = F.relu(x)\n",
    "        return x\n",
    "\n",
    "class ResNet50(nn.Module):\n",
    "    def __init__(self, num_classes):\n",
    "        super(ResNet50, self).__init__()\n",
    "        self.num_classes = num_classes\n",
    "        self.layer1 = nn.Sequential(\n",
    "            nn.Conv2d(3, 64, kernel_size=(3, 3),\n",
    "                      stride=1, padding=1, bias=False),\n",
    "            nn.BatchNorm2d(64),\n",
    "            nn.ReLU(True),\n",
    "            # nn.MaxPool2d(2, 2)\n",
    "        )\n",
    "        self.layer2 = nn.Sequential(\n",
    "            convolutional_block([64, 64, 256], 64, 1),\n",
    "            identity_block([64, 64, 256], 256),\n",
    "            identity_block([64, 64, 256], 256)\n",
    "        )\n",
    "        self.layer3 = nn.Sequential(\n",
    "            convolutional_block([128, 128, 512], 256, 2),\n",
    "            identity_block([128, 128, 512], 512),\n",
    "            identity_block([128, 128, 512], 512),\n",
    "            identity_block([128, 128, 512], 512)\n",
    "        )\n",
    "        self.layer4 = nn.Sequential(\n",
    "            convolutional_block([256, 256, 1024], 512, 2),\n",
    "            identity_block([256, 256, 1024], 1024),\n",
    "            identity_block([256, 256, 1024], 1024),\n",
    "            identity_block([256, 256, 1024], 1024),\n",
    "            identity_block([256, 256, 1024], 1024),\n",
    "            identity_block([256, 256, 1024], 1024)\n",
    "        )\n",
    "        self.layer5 = nn.Sequential(\n",
    "            convolutional_block([512, 512, 2048], 1024, 2),\n",
    "            identity_block([512, 512, 2048], 2048),\n",
    "            identity_block([512, 512, 2048], 2048)\n",
    "        )\n",
    "        self.out_layer = nn.Sequential(\n",
    "            nn.AdaptiveAvgPool2d((1, 1)),\n",
    "            nn.Flatten(),\n",
    "            nn.Linear(2048, num_classes),\n",
    "        )\n",
    "\n",
    "    def forward(self, x):\n",
    "        x = self.layer1(x)\n",
    "        x = self.layer2(x)\n",
    "        x = self.layer3(x)\n",
    "        x = self.layer4(x)\n",
    "        x = self.layer5(x)\n",
    "        x = self.out_layer(x)\n",
    "        return x\n"
   ]
  },
  {
   "cell_type": "code",
   "execution_count": 6,
   "metadata": {},
   "outputs": [],
   "source": [
    "import torch.optim as optim\n",
    "\n",
    "device = torch.device('cuda' if torch.cuda.is_available() else 'cpu')\n",
    "model = VGG16(30).to(device)\n",
    "# model = ResNet18(5).to(device)\n",
    "# model = ResNet34(5).to(device)\n",
    "# model = ResNet50(5).to(device)\n",
    "\n",
    "learning_rate = 0.1\n",
    "optimizer = optim.AdamW(model.parameters(), lr=learning_rate)\n",
    "scheduler = torch.optim.lr_scheduler.MultiStepLR(optimizer,\n",
    "                                                 milestones=[60, 120, 160],\n",
    "                                                 gamma=0.2)\n",
    "criterion = nn.CrossEntropyLoss()\n",
    "epochs = 250\n",
    "\n",
    "batch_size = 512\n",
    "train_transforms = transforms.Compose([\n",
    "    # data augmentation\n",
    "    transforms.Pad(4, padding_mode='reflect'),\n",
    "    transforms.RandomHorizontalFlip(),\n",
    "    transforms.RandomCrop(32),\n",
    "    transforms.AutoAugment(transforms.AutoAugmentPolicy.CIFAR10),\n",
    "    transforms.ToTensor(),\n",
    "    transforms.Normalize((0.4914, 0.4822, 0.4465), (0.2023, 0.1994, 0.2010))\n",
    "])\n",
    "\n",
    "train_data = train_dataset('hw2/CIFAR100_testImage/Training_data',\n",
    "                           transform=train_transforms)\n",
    "valid_data = train_dataset('hw2/CIFAR100_testImage/Testing_data',\n",
    "                           transform=transforms.Compose([\n",
    "                             transforms.ToTensor(),\n",
    "                             transforms.Normalize((0.4914, 0.4822, 0.4465),\n",
    "                                                  (0.2023, 0.1994, 0.2010))\n",
    "                         ]))\n",
    "\n",
    "train_loader = DataLoader(train_data, batch_size=batch_size, shuffle=True, num_workers=4)\n",
    "valid_loader = DataLoader(valid_data,\n",
    "                          batch_size=512,\n",
    "                          shuffle=False,\n",
    "                          num_workers=4)"
   ]
  },
  {
   "cell_type": "code",
   "execution_count": 7,
   "metadata": {},
   "outputs": [
    {
     "name": "stderr",
     "output_type": "stream",
     "text": [
      "Epoch [0/250]: 100%|██████████| 5/5 [00:02<00:00,  1.78it/s, Train_Loss=15.5, Train_Accuracy=18.32%]\n"
     ]
    },
    {
     "name": "stdout",
     "output_type": "stream",
     "text": [
      "Val_Loss: 0.00   Val_Accuracy: 20.00\n"
     ]
    },
    {
     "name": "stderr",
     "output_type": "stream",
     "text": [
      "Epoch [1/250]: 100%|██████████| 5/5 [00:01<00:00,  4.14it/s, Train_Loss=2.86, Train_Accuracy=18.44%]\n"
     ]
    },
    {
     "name": "stdout",
     "output_type": "stream",
     "text": [
      "Val_Loss: 0.00   Val_Accuracy: 20.00\n"
     ]
    },
    {
     "name": "stderr",
     "output_type": "stream",
     "text": [
      "Epoch [2/250]: 100%|██████████| 5/5 [00:01<00:00,  4.13it/s, Train_Loss=1.65, Train_Accuracy=22.08%]\n"
     ]
    },
    {
     "name": "stdout",
     "output_type": "stream",
     "text": [
      "Val_Loss: 0.00   Val_Accuracy: 20.00\n"
     ]
    },
    {
     "name": "stderr",
     "output_type": "stream",
     "text": [
      "Epoch [3/250]: 100%|██████████| 5/5 [00:01<00:00,  4.11it/s, Train_Loss=1.61, Train_Accuracy=21.04%]\n"
     ]
    },
    {
     "name": "stdout",
     "output_type": "stream",
     "text": [
      "Val_Loss: 0.00   Val_Accuracy: 18.60\n"
     ]
    },
    {
     "name": "stderr",
     "output_type": "stream",
     "text": [
      "Epoch [4/250]: 100%|██████████| 5/5 [00:01<00:00,  4.15it/s, Train_Loss=1.65, Train_Accuracy=21.72%]\n"
     ]
    },
    {
     "name": "stdout",
     "output_type": "stream",
     "text": [
      "Val_Loss: 0.00   Val_Accuracy: 20.20\n"
     ]
    },
    {
     "name": "stderr",
     "output_type": "stream",
     "text": [
      "Epoch [5/250]: 100%|██████████| 5/5 [00:01<00:00,  4.07it/s, Train_Loss=1.64, Train_Accuracy=21.12%]\n"
     ]
    },
    {
     "name": "stdout",
     "output_type": "stream",
     "text": [
      "Val_Loss: 0.00   Val_Accuracy: 21.20\n"
     ]
    },
    {
     "name": "stderr",
     "output_type": "stream",
     "text": [
      "Epoch [6/250]: 100%|██████████| 5/5 [00:01<00:00,  4.10it/s, Train_Loss=1.66, Train_Accuracy=20.08%]\n"
     ]
    },
    {
     "name": "stdout",
     "output_type": "stream",
     "text": [
      "Val_Loss: 0.00   Val_Accuracy: 19.00\n"
     ]
    },
    {
     "name": "stderr",
     "output_type": "stream",
     "text": [
      "Epoch [7/250]: 100%|██████████| 5/5 [00:01<00:00,  4.12it/s, Train_Loss=1.6, Train_Accuracy=21.52%] \n"
     ]
    },
    {
     "name": "stdout",
     "output_type": "stream",
     "text": [
      "Val_Loss: 0.00   Val_Accuracy: 25.00\n"
     ]
    },
    {
     "name": "stderr",
     "output_type": "stream",
     "text": [
      "Epoch [8/250]: 100%|██████████| 5/5 [00:01<00:00,  4.04it/s, Train_Loss=1.66, Train_Accuracy=20.08%]\n"
     ]
    },
    {
     "name": "stdout",
     "output_type": "stream",
     "text": [
      "Val_Loss: 0.00   Val_Accuracy: 23.80\n"
     ]
    },
    {
     "name": "stderr",
     "output_type": "stream",
     "text": [
      "Epoch [9/250]: 100%|██████████| 5/5 [00:01<00:00,  4.09it/s, Train_Loss=1.65, Train_Accuracy=21.56%]\n"
     ]
    },
    {
     "name": "stdout",
     "output_type": "stream",
     "text": [
      "Val_Loss: 0.00   Val_Accuracy: 23.00\n"
     ]
    },
    {
     "name": "stderr",
     "output_type": "stream",
     "text": [
      "Epoch [10/250]: 100%|██████████| 5/5 [00:01<00:00,  4.20it/s, Train_Loss=1.59, Train_Accuracy=21.44%]\n"
     ]
    },
    {
     "name": "stdout",
     "output_type": "stream",
     "text": [
      "Val_Loss: 0.00   Val_Accuracy: 23.00\n"
     ]
    },
    {
     "name": "stderr",
     "output_type": "stream",
     "text": [
      "Epoch [11/250]: 100%|██████████| 5/5 [00:01<00:00,  4.15it/s, Train_Loss=1.57, Train_Accuracy=20.92%]\n"
     ]
    },
    {
     "name": "stdout",
     "output_type": "stream",
     "text": [
      "Val_Loss: 0.00   Val_Accuracy: 22.40\n"
     ]
    },
    {
     "name": "stderr",
     "output_type": "stream",
     "text": [
      "Epoch [12/250]: 100%|██████████| 5/5 [00:01<00:00,  4.19it/s, Train_Loss=1.62, Train_Accuracy=21.12%]\n"
     ]
    },
    {
     "name": "stdout",
     "output_type": "stream",
     "text": [
      "Val_Loss: 0.00   Val_Accuracy: 22.20\n"
     ]
    },
    {
     "name": "stderr",
     "output_type": "stream",
     "text": [
      "Epoch [13/250]: 100%|██████████| 5/5 [00:01<00:00,  4.13it/s, Train_Loss=1.6, Train_Accuracy=21.20%] \n"
     ]
    },
    {
     "name": "stdout",
     "output_type": "stream",
     "text": [
      "Val_Loss: 0.00   Val_Accuracy: 22.00\n"
     ]
    },
    {
     "name": "stderr",
     "output_type": "stream",
     "text": [
      "Epoch [14/250]: 100%|██████████| 5/5 [00:01<00:00,  4.14it/s, Train_Loss=1.61, Train_Accuracy=22.92%]\n"
     ]
    },
    {
     "name": "stdout",
     "output_type": "stream",
     "text": [
      "Val_Loss: 0.00   Val_Accuracy: 21.80\n"
     ]
    },
    {
     "name": "stderr",
     "output_type": "stream",
     "text": [
      "Epoch [15/250]: 100%|██████████| 5/5 [00:01<00:00,  4.06it/s, Train_Loss=1.59, Train_Accuracy=22.20%]\n"
     ]
    },
    {
     "name": "stdout",
     "output_type": "stream",
     "text": [
      "Val_Loss: 0.00   Val_Accuracy: 22.40\n"
     ]
    },
    {
     "name": "stderr",
     "output_type": "stream",
     "text": [
      "Epoch [16/250]: 100%|██████████| 5/5 [00:01<00:00,  4.03it/s, Train_Loss=1.58, Train_Accuracy=22.32%]\n"
     ]
    },
    {
     "name": "stdout",
     "output_type": "stream",
     "text": [
      "Val_Loss: 0.00   Val_Accuracy: 22.20\n"
     ]
    },
    {
     "name": "stderr",
     "output_type": "stream",
     "text": [
      "Epoch [17/250]: 100%|██████████| 5/5 [00:01<00:00,  4.12it/s, Train_Loss=1.6, Train_Accuracy=22.00%] \n"
     ]
    },
    {
     "name": "stdout",
     "output_type": "stream",
     "text": [
      "Val_Loss: 0.00   Val_Accuracy: 23.00\n"
     ]
    },
    {
     "name": "stderr",
     "output_type": "stream",
     "text": [
      "Epoch [18/250]: 100%|██████████| 5/5 [00:01<00:00,  4.13it/s, Train_Loss=1.59, Train_Accuracy=21.20%]\n"
     ]
    },
    {
     "name": "stdout",
     "output_type": "stream",
     "text": [
      "Val_Loss: 0.00   Val_Accuracy: 22.60\n"
     ]
    },
    {
     "name": "stderr",
     "output_type": "stream",
     "text": [
      "Epoch [19/250]: 100%|██████████| 5/5 [00:01<00:00,  4.03it/s, Train_Loss=1.6, Train_Accuracy=20.56%] \n"
     ]
    },
    {
     "name": "stdout",
     "output_type": "stream",
     "text": [
      "Val_Loss: 0.00   Val_Accuracy: 23.00\n"
     ]
    },
    {
     "name": "stderr",
     "output_type": "stream",
     "text": [
      "Epoch [20/250]: 100%|██████████| 5/5 [00:01<00:00,  4.05it/s, Train_Loss=1.6, Train_Accuracy=22.08%] \n"
     ]
    },
    {
     "name": "stdout",
     "output_type": "stream",
     "text": [
      "Val_Loss: 0.00   Val_Accuracy: 19.80\n"
     ]
    },
    {
     "name": "stderr",
     "output_type": "stream",
     "text": [
      "Epoch [21/250]: 100%|██████████| 5/5 [00:01<00:00,  4.13it/s, Train_Loss=1.61, Train_Accuracy=22.40%]\n"
     ]
    },
    {
     "name": "stdout",
     "output_type": "stream",
     "text": [
      "Val_Loss: 0.00   Val_Accuracy: 23.20\n"
     ]
    },
    {
     "name": "stderr",
     "output_type": "stream",
     "text": [
      "Epoch [22/250]: 100%|██████████| 5/5 [00:01<00:00,  4.17it/s, Train_Loss=1.61, Train_Accuracy=22.40%]\n"
     ]
    },
    {
     "name": "stdout",
     "output_type": "stream",
     "text": [
      "Val_Loss: 0.00   Val_Accuracy: 20.00\n"
     ]
    },
    {
     "name": "stderr",
     "output_type": "stream",
     "text": [
      "Epoch [23/250]: 100%|██████████| 5/5 [00:01<00:00,  4.20it/s, Train_Loss=1.61, Train_Accuracy=22.04%]\n"
     ]
    },
    {
     "name": "stdout",
     "output_type": "stream",
     "text": [
      "Val_Loss: 0.00   Val_Accuracy: 23.80\n"
     ]
    },
    {
     "name": "stderr",
     "output_type": "stream",
     "text": [
      "Epoch [24/250]: 100%|██████████| 5/5 [00:01<00:00,  4.08it/s, Train_Loss=1.6, Train_Accuracy=22.24%] \n"
     ]
    },
    {
     "name": "stdout",
     "output_type": "stream",
     "text": [
      "Val_Loss: 0.00   Val_Accuracy: 25.20\n"
     ]
    },
    {
     "name": "stderr",
     "output_type": "stream",
     "text": [
      "Epoch [25/250]: 100%|██████████| 5/5 [00:01<00:00,  4.21it/s, Train_Loss=1.58, Train_Accuracy=23.08%]\n"
     ]
    },
    {
     "name": "stdout",
     "output_type": "stream",
     "text": [
      "Val_Loss: 0.00   Val_Accuracy: 24.60\n"
     ]
    },
    {
     "name": "stderr",
     "output_type": "stream",
     "text": [
      "Epoch [26/250]: 100%|██████████| 5/5 [00:01<00:00,  4.10it/s, Train_Loss=1.58, Train_Accuracy=23.72%]\n"
     ]
    },
    {
     "name": "stdout",
     "output_type": "stream",
     "text": [
      "Val_Loss: 0.00   Val_Accuracy: 25.00\n"
     ]
    },
    {
     "name": "stderr",
     "output_type": "stream",
     "text": [
      "Epoch [27/250]: 100%|██████████| 5/5 [00:01<00:00,  4.12it/s, Train_Loss=1.57, Train_Accuracy=24.64%]\n"
     ]
    },
    {
     "name": "stdout",
     "output_type": "stream",
     "text": [
      "Val_Loss: 0.00   Val_Accuracy: 25.80\n"
     ]
    },
    {
     "name": "stderr",
     "output_type": "stream",
     "text": [
      "Epoch [28/250]: 100%|██████████| 5/5 [00:01<00:00,  4.14it/s, Train_Loss=1.59, Train_Accuracy=25.20%]\n"
     ]
    },
    {
     "name": "stdout",
     "output_type": "stream",
     "text": [
      "Val_Loss: 0.00   Val_Accuracy: 25.20\n"
     ]
    },
    {
     "name": "stderr",
     "output_type": "stream",
     "text": [
      "Epoch [29/250]: 100%|██████████| 5/5 [00:01<00:00,  3.97it/s, Train_Loss=1.55, Train_Accuracy=24.12%]\n"
     ]
    },
    {
     "name": "stdout",
     "output_type": "stream",
     "text": [
      "Val_Loss: 0.00   Val_Accuracy: 28.00\n"
     ]
    },
    {
     "name": "stderr",
     "output_type": "stream",
     "text": [
      "Epoch [30/250]: 100%|██████████| 5/5 [00:01<00:00,  4.11it/s, Train_Loss=1.54, Train_Accuracy=24.76%]\n"
     ]
    },
    {
     "name": "stdout",
     "output_type": "stream",
     "text": [
      "Val_Loss: 0.00   Val_Accuracy: 28.60\n"
     ]
    },
    {
     "name": "stderr",
     "output_type": "stream",
     "text": [
      "Epoch [31/250]: 100%|██████████| 5/5 [00:01<00:00,  4.10it/s, Train_Loss=1.56, Train_Accuracy=26.32%]\n"
     ]
    },
    {
     "name": "stdout",
     "output_type": "stream",
     "text": [
      "Val_Loss: 0.00   Val_Accuracy: 30.80\n"
     ]
    },
    {
     "name": "stderr",
     "output_type": "stream",
     "text": [
      "Epoch [32/250]: 100%|██████████| 5/5 [00:01<00:00,  4.06it/s, Train_Loss=1.56, Train_Accuracy=25.76%]\n"
     ]
    },
    {
     "name": "stdout",
     "output_type": "stream",
     "text": [
      "Val_Loss: 0.00   Val_Accuracy: 21.40\n"
     ]
    },
    {
     "name": "stderr",
     "output_type": "stream",
     "text": [
      "Epoch [33/250]: 100%|██████████| 5/5 [00:01<00:00,  4.09it/s, Train_Loss=1.57, Train_Accuracy=26.00%]\n"
     ]
    },
    {
     "name": "stdout",
     "output_type": "stream",
     "text": [
      "Val_Loss: 0.00   Val_Accuracy: 34.00\n"
     ]
    },
    {
     "name": "stderr",
     "output_type": "stream",
     "text": [
      "Epoch [34/250]: 100%|██████████| 5/5 [00:01<00:00,  4.17it/s, Train_Loss=1.51, Train_Accuracy=27.76%]\n"
     ]
    },
    {
     "name": "stdout",
     "output_type": "stream",
     "text": [
      "Val_Loss: 0.00   Val_Accuracy: 33.60\n"
     ]
    },
    {
     "name": "stderr",
     "output_type": "stream",
     "text": [
      "Epoch [35/250]: 100%|██████████| 5/5 [00:01<00:00,  4.05it/s, Train_Loss=1.58, Train_Accuracy=28.64%]\n"
     ]
    },
    {
     "name": "stdout",
     "output_type": "stream",
     "text": [
      "Val_Loss: 0.00   Val_Accuracy: 28.20\n"
     ]
    },
    {
     "name": "stderr",
     "output_type": "stream",
     "text": [
      "Epoch [36/250]: 100%|██████████| 5/5 [00:01<00:00,  4.12it/s, Train_Loss=1.47, Train_Accuracy=31.36%]\n"
     ]
    },
    {
     "name": "stdout",
     "output_type": "stream",
     "text": [
      "Val_Loss: 0.00   Val_Accuracy: 33.80\n"
     ]
    },
    {
     "name": "stderr",
     "output_type": "stream",
     "text": [
      "Epoch [37/250]: 100%|██████████| 5/5 [00:01<00:00,  4.06it/s, Train_Loss=1.48, Train_Accuracy=32.88%]\n"
     ]
    },
    {
     "name": "stdout",
     "output_type": "stream",
     "text": [
      "Val_Loss: 0.00   Val_Accuracy: 21.40\n"
     ]
    },
    {
     "name": "stderr",
     "output_type": "stream",
     "text": [
      "Epoch [38/250]: 100%|██████████| 5/5 [00:01<00:00,  4.14it/s, Train_Loss=1.45, Train_Accuracy=31.84%]\n"
     ]
    },
    {
     "name": "stdout",
     "output_type": "stream",
     "text": [
      "Val_Loss: 0.00   Val_Accuracy: 20.20\n"
     ]
    },
    {
     "name": "stderr",
     "output_type": "stream",
     "text": [
      "Epoch [39/250]: 100%|██████████| 5/5 [00:01<00:00,  4.19it/s, Train_Loss=1.44, Train_Accuracy=30.36%]\n"
     ]
    },
    {
     "name": "stdout",
     "output_type": "stream",
     "text": [
      "Val_Loss: 0.00   Val_Accuracy: 38.60\n"
     ]
    },
    {
     "name": "stderr",
     "output_type": "stream",
     "text": [
      "Epoch [40/250]: 100%|██████████| 5/5 [00:01<00:00,  4.08it/s, Train_Loss=1.43, Train_Accuracy=31.96%]\n"
     ]
    },
    {
     "name": "stdout",
     "output_type": "stream",
     "text": [
      "Val_Loss: 0.00   Val_Accuracy: 38.60\n"
     ]
    },
    {
     "name": "stderr",
     "output_type": "stream",
     "text": [
      "Epoch [41/250]: 100%|██████████| 5/5 [00:01<00:00,  4.09it/s, Train_Loss=1.46, Train_Accuracy=32.44%]\n"
     ]
    },
    {
     "name": "stdout",
     "output_type": "stream",
     "text": [
      "Val_Loss: 0.00   Val_Accuracy: 40.60\n"
     ]
    },
    {
     "name": "stderr",
     "output_type": "stream",
     "text": [
      "Epoch [42/250]: 100%|██████████| 5/5 [00:01<00:00,  4.05it/s, Train_Loss=1.4, Train_Accuracy=35.04%] \n"
     ]
    },
    {
     "name": "stdout",
     "output_type": "stream",
     "text": [
      "Val_Loss: 0.00   Val_Accuracy: 33.00\n"
     ]
    },
    {
     "name": "stderr",
     "output_type": "stream",
     "text": [
      "Epoch [43/250]: 100%|██████████| 5/5 [00:01<00:00,  4.19it/s, Train_Loss=1.38, Train_Accuracy=36.56%]\n"
     ]
    },
    {
     "name": "stdout",
     "output_type": "stream",
     "text": [
      "Val_Loss: 0.00   Val_Accuracy: 39.00\n"
     ]
    },
    {
     "name": "stderr",
     "output_type": "stream",
     "text": [
      "Epoch [44/250]: 100%|██████████| 5/5 [00:01<00:00,  4.05it/s, Train_Loss=1.31, Train_Accuracy=39.04%]\n"
     ]
    },
    {
     "name": "stdout",
     "output_type": "stream",
     "text": [
      "Val_Loss: 0.00   Val_Accuracy: 43.60\n"
     ]
    },
    {
     "name": "stderr",
     "output_type": "stream",
     "text": [
      "Epoch [45/250]: 100%|██████████| 5/5 [00:01<00:00,  4.15it/s, Train_Loss=1.3, Train_Accuracy=35.68%] \n"
     ]
    },
    {
     "name": "stdout",
     "output_type": "stream",
     "text": [
      "Val_Loss: 0.00   Val_Accuracy: 39.60\n"
     ]
    },
    {
     "name": "stderr",
     "output_type": "stream",
     "text": [
      "Epoch [46/250]: 100%|██████████| 5/5 [00:01<00:00,  4.15it/s, Train_Loss=1.3, Train_Accuracy=38.60%] \n"
     ]
    },
    {
     "name": "stdout",
     "output_type": "stream",
     "text": [
      "Val_Loss: 0.00   Val_Accuracy: 43.80\n"
     ]
    },
    {
     "name": "stderr",
     "output_type": "stream",
     "text": [
      "Epoch [47/250]: 100%|██████████| 5/5 [00:01<00:00,  4.06it/s, Train_Loss=1.31, Train_Accuracy=39.12%]\n"
     ]
    },
    {
     "name": "stdout",
     "output_type": "stream",
     "text": [
      "Val_Loss: 0.00   Val_Accuracy: 43.00\n"
     ]
    },
    {
     "name": "stderr",
     "output_type": "stream",
     "text": [
      "Epoch [48/250]: 100%|██████████| 5/5 [00:01<00:00,  4.13it/s, Train_Loss=1.43, Train_Accuracy=37.48%]\n"
     ]
    },
    {
     "name": "stdout",
     "output_type": "stream",
     "text": [
      "Val_Loss: 0.00   Val_Accuracy: 32.40\n"
     ]
    },
    {
     "name": "stderr",
     "output_type": "stream",
     "text": [
      "Epoch [49/250]: 100%|██████████| 5/5 [00:01<00:00,  4.18it/s, Train_Loss=1.33, Train_Accuracy=37.88%]\n"
     ]
    },
    {
     "name": "stdout",
     "output_type": "stream",
     "text": [
      "Val_Loss: 0.00   Val_Accuracy: 30.00\n"
     ]
    },
    {
     "name": "stderr",
     "output_type": "stream",
     "text": [
      "Epoch [50/250]: 100%|██████████| 5/5 [00:01<00:00,  4.12it/s, Train_Loss=1.31, Train_Accuracy=38.40%]\n"
     ]
    },
    {
     "name": "stdout",
     "output_type": "stream",
     "text": [
      "Val_Loss: 0.00   Val_Accuracy: 38.20\n"
     ]
    },
    {
     "name": "stderr",
     "output_type": "stream",
     "text": [
      "Epoch [51/250]: 100%|██████████| 5/5 [00:01<00:00,  4.09it/s, Train_Loss=1.37, Train_Accuracy=37.92%]\n"
     ]
    },
    {
     "name": "stdout",
     "output_type": "stream",
     "text": [
      "Val_Loss: 0.00   Val_Accuracy: 33.40\n"
     ]
    },
    {
     "name": "stderr",
     "output_type": "stream",
     "text": [
      "Epoch [52/250]: 100%|██████████| 5/5 [00:01<00:00,  4.17it/s, Train_Loss=1.27, Train_Accuracy=39.76%]\n"
     ]
    },
    {
     "name": "stdout",
     "output_type": "stream",
     "text": [
      "Val_Loss: 0.00   Val_Accuracy: 37.40\n"
     ]
    },
    {
     "name": "stderr",
     "output_type": "stream",
     "text": [
      "Epoch [53/250]: 100%|██████████| 5/5 [00:01<00:00,  4.15it/s, Train_Loss=1.27, Train_Accuracy=39.80%]\n"
     ]
    },
    {
     "name": "stdout",
     "output_type": "stream",
     "text": [
      "Val_Loss: 0.00   Val_Accuracy: 43.60\n"
     ]
    },
    {
     "name": "stderr",
     "output_type": "stream",
     "text": [
      "Epoch [54/250]: 100%|██████████| 5/5 [00:01<00:00,  4.11it/s, Train_Loss=1.33, Train_Accuracy=40.32%]\n"
     ]
    },
    {
     "name": "stdout",
     "output_type": "stream",
     "text": [
      "Val_Loss: 0.00   Val_Accuracy: 35.60\n"
     ]
    },
    {
     "name": "stderr",
     "output_type": "stream",
     "text": [
      "Epoch [55/250]: 100%|██████████| 5/5 [00:01<00:00,  4.08it/s, Train_Loss=1.25, Train_Accuracy=41.12%]\n"
     ]
    },
    {
     "name": "stdout",
     "output_type": "stream",
     "text": [
      "Val_Loss: 0.00   Val_Accuracy: 43.20\n"
     ]
    },
    {
     "name": "stderr",
     "output_type": "stream",
     "text": [
      "Epoch [56/250]: 100%|██████████| 5/5 [00:01<00:00,  4.20it/s, Train_Loss=1.23, Train_Accuracy=39.36%]\n"
     ]
    },
    {
     "name": "stdout",
     "output_type": "stream",
     "text": [
      "Val_Loss: 0.00   Val_Accuracy: 38.40\n"
     ]
    },
    {
     "name": "stderr",
     "output_type": "stream",
     "text": [
      "Epoch [57/250]: 100%|██████████| 5/5 [00:01<00:00,  4.12it/s, Train_Loss=1.21, Train_Accuracy=41.92%]\n"
     ]
    },
    {
     "name": "stdout",
     "output_type": "stream",
     "text": [
      "Val_Loss: 0.00   Val_Accuracy: 40.00\n"
     ]
    },
    {
     "name": "stderr",
     "output_type": "stream",
     "text": [
      "Epoch [58/250]: 100%|██████████| 5/5 [00:01<00:00,  4.12it/s, Train_Loss=1.26, Train_Accuracy=42.32%]\n"
     ]
    },
    {
     "name": "stdout",
     "output_type": "stream",
     "text": [
      "Val_Loss: 0.00   Val_Accuracy: 40.60\n"
     ]
    },
    {
     "name": "stderr",
     "output_type": "stream",
     "text": [
      "Epoch [59/250]: 100%|██████████| 5/5 [00:01<00:00,  4.04it/s, Train_Loss=1.27, Train_Accuracy=43.24%]\n"
     ]
    },
    {
     "name": "stdout",
     "output_type": "stream",
     "text": [
      "Val_Loss: 0.00   Val_Accuracy: 39.40\n"
     ]
    },
    {
     "name": "stderr",
     "output_type": "stream",
     "text": [
      "Epoch [60/250]: 100%|██████████| 5/5 [00:01<00:00,  4.13it/s, Train_Loss=1.21, Train_Accuracy=43.64%]\n"
     ]
    },
    {
     "name": "stdout",
     "output_type": "stream",
     "text": [
      "Val_Loss: 0.00   Val_Accuracy: 42.80\n"
     ]
    },
    {
     "name": "stderr",
     "output_type": "stream",
     "text": [
      "Epoch [61/250]: 100%|██████████| 5/5 [00:01<00:00,  4.07it/s, Train_Loss=1.21, Train_Accuracy=43.12%]\n"
     ]
    },
    {
     "name": "stdout",
     "output_type": "stream",
     "text": [
      "Val_Loss: 0.00   Val_Accuracy: 45.80\n"
     ]
    },
    {
     "name": "stderr",
     "output_type": "stream",
     "text": [
      "Epoch [62/250]: 100%|██████████| 5/5 [00:01<00:00,  4.17it/s, Train_Loss=1.23, Train_Accuracy=43.72%]\n"
     ]
    },
    {
     "name": "stdout",
     "output_type": "stream",
     "text": [
      "Val_Loss: 0.00   Val_Accuracy: 49.20\n"
     ]
    },
    {
     "name": "stderr",
     "output_type": "stream",
     "text": [
      "Epoch [63/250]: 100%|██████████| 5/5 [00:01<00:00,  4.18it/s, Train_Loss=1.25, Train_Accuracy=43.80%]\n"
     ]
    },
    {
     "name": "stdout",
     "output_type": "stream",
     "text": [
      "Val_Loss: 0.00   Val_Accuracy: 49.00\n"
     ]
    },
    {
     "name": "stderr",
     "output_type": "stream",
     "text": [
      "Epoch [64/250]: 100%|██████████| 5/5 [00:01<00:00,  4.06it/s, Train_Loss=1.26, Train_Accuracy=43.32%]\n"
     ]
    },
    {
     "name": "stdout",
     "output_type": "stream",
     "text": [
      "Val_Loss: 0.00   Val_Accuracy: 51.20\n"
     ]
    },
    {
     "name": "stderr",
     "output_type": "stream",
     "text": [
      "Epoch [65/250]: 100%|██████████| 5/5 [00:01<00:00,  4.11it/s, Train_Loss=1.25, Train_Accuracy=44.88%]\n"
     ]
    },
    {
     "name": "stdout",
     "output_type": "stream",
     "text": [
      "Val_Loss: 0.00   Val_Accuracy: 49.00\n"
     ]
    },
    {
     "name": "stderr",
     "output_type": "stream",
     "text": [
      "Epoch [66/250]: 100%|██████████| 5/5 [00:01<00:00,  4.06it/s, Train_Loss=1.14, Train_Accuracy=46.44%]\n"
     ]
    },
    {
     "name": "stdout",
     "output_type": "stream",
     "text": [
      "Val_Loss: 0.00   Val_Accuracy: 51.00\n"
     ]
    },
    {
     "name": "stderr",
     "output_type": "stream",
     "text": [
      "Epoch [67/250]: 100%|██████████| 5/5 [00:01<00:00,  4.10it/s, Train_Loss=1.27, Train_Accuracy=43.00%]\n"
     ]
    },
    {
     "name": "stdout",
     "output_type": "stream",
     "text": [
      "Val_Loss: 0.00   Val_Accuracy: 50.60\n"
     ]
    },
    {
     "name": "stderr",
     "output_type": "stream",
     "text": [
      "Epoch [68/250]: 100%|██████████| 5/5 [00:01<00:00,  3.98it/s, Train_Loss=1.15, Train_Accuracy=46.80%]\n"
     ]
    },
    {
     "name": "stdout",
     "output_type": "stream",
     "text": [
      "Val_Loss: 0.00   Val_Accuracy: 51.40\n"
     ]
    },
    {
     "name": "stderr",
     "output_type": "stream",
     "text": [
      "Epoch [69/250]: 100%|██████████| 5/5 [00:01<00:00,  4.19it/s, Train_Loss=1.18, Train_Accuracy=45.40%]\n"
     ]
    },
    {
     "name": "stdout",
     "output_type": "stream",
     "text": [
      "Val_Loss: 0.00   Val_Accuracy: 51.00\n"
     ]
    },
    {
     "name": "stderr",
     "output_type": "stream",
     "text": [
      "Epoch [70/250]: 100%|██████████| 5/5 [00:01<00:00,  4.07it/s, Train_Loss=1.2, Train_Accuracy=45.92%] \n"
     ]
    },
    {
     "name": "stdout",
     "output_type": "stream",
     "text": [
      "Val_Loss: 0.00   Val_Accuracy: 51.00\n"
     ]
    },
    {
     "name": "stderr",
     "output_type": "stream",
     "text": [
      "Epoch [71/250]: 100%|██████████| 5/5 [00:01<00:00,  4.17it/s, Train_Loss=1.14, Train_Accuracy=45.00%]\n"
     ]
    },
    {
     "name": "stdout",
     "output_type": "stream",
     "text": [
      "Val_Loss: 0.00   Val_Accuracy: 52.20\n"
     ]
    },
    {
     "name": "stderr",
     "output_type": "stream",
     "text": [
      "Epoch [72/250]: 100%|██████████| 5/5 [00:01<00:00,  4.16it/s, Train_Loss=1.22, Train_Accuracy=45.76%]\n"
     ]
    },
    {
     "name": "stdout",
     "output_type": "stream",
     "text": [
      "Val_Loss: 0.00   Val_Accuracy: 50.00\n"
     ]
    },
    {
     "name": "stderr",
     "output_type": "stream",
     "text": [
      "Epoch [73/250]: 100%|██████████| 5/5 [00:01<00:00,  4.06it/s, Train_Loss=1.13, Train_Accuracy=45.76%]\n"
     ]
    },
    {
     "name": "stdout",
     "output_type": "stream",
     "text": [
      "Val_Loss: 0.00   Val_Accuracy: 47.60\n"
     ]
    },
    {
     "name": "stderr",
     "output_type": "stream",
     "text": [
      "Epoch [74/250]: 100%|██████████| 5/5 [00:01<00:00,  4.06it/s, Train_Loss=1.2, Train_Accuracy=47.48%] \n"
     ]
    },
    {
     "name": "stdout",
     "output_type": "stream",
     "text": [
      "Val_Loss: 0.00   Val_Accuracy: 49.20\n"
     ]
    },
    {
     "name": "stderr",
     "output_type": "stream",
     "text": [
      "Epoch [75/250]: 100%|██████████| 5/5 [00:01<00:00,  4.19it/s, Train_Loss=1.2, Train_Accuracy=46.32%] \n"
     ]
    },
    {
     "name": "stdout",
     "output_type": "stream",
     "text": [
      "Val_Loss: 0.00   Val_Accuracy: 49.20\n"
     ]
    },
    {
     "name": "stderr",
     "output_type": "stream",
     "text": [
      "Epoch [76/250]: 100%|██████████| 5/5 [00:01<00:00,  4.08it/s, Train_Loss=1.25, Train_Accuracy=46.80%]\n"
     ]
    },
    {
     "name": "stdout",
     "output_type": "stream",
     "text": [
      "Val_Loss: 0.00   Val_Accuracy: 50.60\n"
     ]
    },
    {
     "name": "stderr",
     "output_type": "stream",
     "text": [
      "Epoch [77/250]: 100%|██████████| 5/5 [00:01<00:00,  4.12it/s, Train_Loss=1.15, Train_Accuracy=46.64%]\n"
     ]
    },
    {
     "name": "stdout",
     "output_type": "stream",
     "text": [
      "Val_Loss: 0.00   Val_Accuracy: 50.20\n"
     ]
    },
    {
     "name": "stderr",
     "output_type": "stream",
     "text": [
      "Epoch [78/250]: 100%|██████████| 5/5 [00:01<00:00,  4.12it/s, Train_Loss=1.11, Train_Accuracy=47.60%]\n"
     ]
    },
    {
     "name": "stdout",
     "output_type": "stream",
     "text": [
      "Val_Loss: 0.00   Val_Accuracy: 52.20\n"
     ]
    },
    {
     "name": "stderr",
     "output_type": "stream",
     "text": [
      "Epoch [79/250]: 100%|██████████| 5/5 [00:01<00:00,  4.09it/s, Train_Loss=1.17, Train_Accuracy=47.24%]\n"
     ]
    },
    {
     "name": "stdout",
     "output_type": "stream",
     "text": [
      "Val_Loss: 0.00   Val_Accuracy: 47.20\n"
     ]
    },
    {
     "name": "stderr",
     "output_type": "stream",
     "text": [
      "Epoch [80/250]: 100%|██████████| 5/5 [00:01<00:00,  4.06it/s, Train_Loss=1.13, Train_Accuracy=46.52%]\n"
     ]
    },
    {
     "name": "stdout",
     "output_type": "stream",
     "text": [
      "Val_Loss: 0.00   Val_Accuracy: 50.80\n"
     ]
    },
    {
     "name": "stderr",
     "output_type": "stream",
     "text": [
      "Epoch [81/250]: 100%|██████████| 5/5 [00:01<00:00,  4.09it/s, Train_Loss=1.11, Train_Accuracy=45.16%]\n"
     ]
    },
    {
     "name": "stdout",
     "output_type": "stream",
     "text": [
      "Val_Loss: 0.00   Val_Accuracy: 50.40\n"
     ]
    },
    {
     "name": "stderr",
     "output_type": "stream",
     "text": [
      "Epoch [82/250]: 100%|██████████| 5/5 [00:01<00:00,  4.18it/s, Train_Loss=1.17, Train_Accuracy=47.24%]\n"
     ]
    },
    {
     "name": "stdout",
     "output_type": "stream",
     "text": [
      "Val_Loss: 0.00   Val_Accuracy: 49.80\n"
     ]
    },
    {
     "name": "stderr",
     "output_type": "stream",
     "text": [
      "Epoch [83/250]: 100%|██████████| 5/5 [00:01<00:00,  4.04it/s, Train_Loss=1.13, Train_Accuracy=46.84%]\n"
     ]
    },
    {
     "name": "stdout",
     "output_type": "stream",
     "text": [
      "Val_Loss: 0.00   Val_Accuracy: 51.60\n"
     ]
    },
    {
     "name": "stderr",
     "output_type": "stream",
     "text": [
      "Epoch [84/250]: 100%|██████████| 5/5 [00:01<00:00,  4.03it/s, Train_Loss=1.22, Train_Accuracy=46.72%]\n"
     ]
    },
    {
     "name": "stdout",
     "output_type": "stream",
     "text": [
      "Val_Loss: 0.00   Val_Accuracy: 52.00\n"
     ]
    },
    {
     "name": "stderr",
     "output_type": "stream",
     "text": [
      "Epoch [85/250]: 100%|██████████| 5/5 [00:01<00:00,  4.15it/s, Train_Loss=1.17, Train_Accuracy=47.48%]\n"
     ]
    },
    {
     "name": "stdout",
     "output_type": "stream",
     "text": [
      "Val_Loss: 0.00   Val_Accuracy: 53.20\n"
     ]
    },
    {
     "name": "stderr",
     "output_type": "stream",
     "text": [
      "Epoch [86/250]: 100%|██████████| 5/5 [00:01<00:00,  4.04it/s, Train_Loss=1.12, Train_Accuracy=45.88%]\n"
     ]
    },
    {
     "name": "stdout",
     "output_type": "stream",
     "text": [
      "Val_Loss: 0.00   Val_Accuracy: 52.60\n"
     ]
    },
    {
     "name": "stderr",
     "output_type": "stream",
     "text": [
      "Epoch [87/250]: 100%|██████████| 5/5 [00:01<00:00,  4.11it/s, Train_Loss=1.18, Train_Accuracy=49.48%]\n"
     ]
    },
    {
     "name": "stdout",
     "output_type": "stream",
     "text": [
      "Val_Loss: 0.00   Val_Accuracy: 50.40\n"
     ]
    },
    {
     "name": "stderr",
     "output_type": "stream",
     "text": [
      "Epoch [88/250]: 100%|██████████| 5/5 [00:01<00:00,  4.12it/s, Train_Loss=1.12, Train_Accuracy=47.28%]\n"
     ]
    },
    {
     "name": "stdout",
     "output_type": "stream",
     "text": [
      "Val_Loss: 0.00   Val_Accuracy: 51.60\n"
     ]
    },
    {
     "name": "stderr",
     "output_type": "stream",
     "text": [
      "Epoch [89/250]: 100%|██████████| 5/5 [00:01<00:00,  4.04it/s, Train_Loss=1.09, Train_Accuracy=49.28%]\n"
     ]
    },
    {
     "name": "stdout",
     "output_type": "stream",
     "text": [
      "Val_Loss: 0.00   Val_Accuracy: 47.00\n"
     ]
    },
    {
     "name": "stderr",
     "output_type": "stream",
     "text": [
      "Epoch [90/250]: 100%|██████████| 5/5 [00:01<00:00,  4.04it/s, Train_Loss=1.14, Train_Accuracy=48.32%]\n"
     ]
    },
    {
     "name": "stdout",
     "output_type": "stream",
     "text": [
      "Val_Loss: 0.00   Val_Accuracy: 51.60\n"
     ]
    },
    {
     "name": "stderr",
     "output_type": "stream",
     "text": [
      "Epoch [91/250]: 100%|██████████| 5/5 [00:01<00:00,  4.12it/s, Train_Loss=1.13, Train_Accuracy=46.96%]\n"
     ]
    },
    {
     "name": "stdout",
     "output_type": "stream",
     "text": [
      "Val_Loss: 0.00   Val_Accuracy: 53.40\n"
     ]
    },
    {
     "name": "stderr",
     "output_type": "stream",
     "text": [
      "Epoch [92/250]: 100%|██████████| 5/5 [00:01<00:00,  4.09it/s, Train_Loss=1.14, Train_Accuracy=49.00%]\n"
     ]
    },
    {
     "name": "stdout",
     "output_type": "stream",
     "text": [
      "Val_Loss: 0.00   Val_Accuracy: 53.20\n"
     ]
    },
    {
     "name": "stderr",
     "output_type": "stream",
     "text": [
      "Epoch [93/250]: 100%|██████████| 5/5 [00:01<00:00,  4.13it/s, Train_Loss=1.21, Train_Accuracy=48.40%]\n"
     ]
    },
    {
     "name": "stdout",
     "output_type": "stream",
     "text": [
      "Val_Loss: 0.00   Val_Accuracy: 49.20\n"
     ]
    },
    {
     "name": "stderr",
     "output_type": "stream",
     "text": [
      "Epoch [94/250]: 100%|██████████| 5/5 [00:01<00:00,  4.14it/s, Train_Loss=1.18, Train_Accuracy=49.16%]\n"
     ]
    },
    {
     "name": "stdout",
     "output_type": "stream",
     "text": [
      "Val_Loss: 0.00   Val_Accuracy: 54.20\n"
     ]
    },
    {
     "name": "stderr",
     "output_type": "stream",
     "text": [
      "Epoch [95/250]: 100%|██████████| 5/5 [00:01<00:00,  4.09it/s, Train_Loss=1.09, Train_Accuracy=48.96%]\n"
     ]
    },
    {
     "name": "stdout",
     "output_type": "stream",
     "text": [
      "Val_Loss: 0.00   Val_Accuracy: 50.60\n"
     ]
    },
    {
     "name": "stderr",
     "output_type": "stream",
     "text": [
      "Epoch [96/250]: 100%|██████████| 5/5 [00:01<00:00,  4.06it/s, Train_Loss=1.12, Train_Accuracy=50.28%]\n"
     ]
    },
    {
     "name": "stdout",
     "output_type": "stream",
     "text": [
      "Val_Loss: 0.00   Val_Accuracy: 56.40\n"
     ]
    },
    {
     "name": "stderr",
     "output_type": "stream",
     "text": [
      "Epoch [97/250]: 100%|██████████| 5/5 [00:01<00:00,  4.07it/s, Train_Loss=1.15, Train_Accuracy=49.64%]\n"
     ]
    },
    {
     "name": "stdout",
     "output_type": "stream",
     "text": [
      "Val_Loss: 0.00   Val_Accuracy: 53.60\n"
     ]
    },
    {
     "name": "stderr",
     "output_type": "stream",
     "text": [
      "Epoch [98/250]: 100%|██████████| 5/5 [00:01<00:00,  4.02it/s, Train_Loss=1.14, Train_Accuracy=50.28%]\n"
     ]
    },
    {
     "name": "stdout",
     "output_type": "stream",
     "text": [
      "Val_Loss: 0.00   Val_Accuracy: 54.00\n"
     ]
    },
    {
     "name": "stderr",
     "output_type": "stream",
     "text": [
      "Epoch [99/250]: 100%|██████████| 5/5 [00:01<00:00,  4.00it/s, Train_Loss=1.11, Train_Accuracy=50.68%]\n"
     ]
    },
    {
     "name": "stdout",
     "output_type": "stream",
     "text": [
      "Val_Loss: 0.00   Val_Accuracy: 56.80\n"
     ]
    },
    {
     "name": "stderr",
     "output_type": "stream",
     "text": [
      "Epoch [100/250]: 100%|██████████| 5/5 [00:01<00:00,  4.06it/s, Train_Loss=1.12, Train_Accuracy=51.12%]\n"
     ]
    },
    {
     "name": "stdout",
     "output_type": "stream",
     "text": [
      "Val_Loss: 0.00   Val_Accuracy: 50.60\n"
     ]
    },
    {
     "name": "stderr",
     "output_type": "stream",
     "text": [
      "Epoch [101/250]: 100%|██████████| 5/5 [00:01<00:00,  4.09it/s, Train_Loss=1.09, Train_Accuracy=49.12%]\n"
     ]
    },
    {
     "name": "stdout",
     "output_type": "stream",
     "text": [
      "Val_Loss: 0.00   Val_Accuracy: 55.40\n"
     ]
    },
    {
     "name": "stderr",
     "output_type": "stream",
     "text": [
      "Epoch [102/250]: 100%|██████████| 5/5 [00:01<00:00,  4.06it/s, Train_Loss=1.1, Train_Accuracy=50.56%] \n"
     ]
    },
    {
     "name": "stdout",
     "output_type": "stream",
     "text": [
      "Val_Loss: 0.00   Val_Accuracy: 51.80\n"
     ]
    },
    {
     "name": "stderr",
     "output_type": "stream",
     "text": [
      "Epoch [103/250]: 100%|██████████| 5/5 [00:01<00:00,  4.04it/s, Train_Loss=1.11, Train_Accuracy=51.04%]\n"
     ]
    },
    {
     "name": "stdout",
     "output_type": "stream",
     "text": [
      "Val_Loss: 0.00   Val_Accuracy: 49.80\n"
     ]
    },
    {
     "name": "stderr",
     "output_type": "stream",
     "text": [
      "Epoch [104/250]: 100%|██████████| 5/5 [00:01<00:00,  4.01it/s, Train_Loss=1.12, Train_Accuracy=52.12%]\n"
     ]
    },
    {
     "name": "stdout",
     "output_type": "stream",
     "text": [
      "Val_Loss: 0.00   Val_Accuracy: 57.80\n"
     ]
    },
    {
     "name": "stderr",
     "output_type": "stream",
     "text": [
      "Epoch [105/250]: 100%|██████████| 5/5 [00:01<00:00,  4.14it/s, Train_Loss=1.12, Train_Accuracy=51.24%]\n"
     ]
    },
    {
     "name": "stdout",
     "output_type": "stream",
     "text": [
      "Val_Loss: 0.00   Val_Accuracy: 55.60\n"
     ]
    },
    {
     "name": "stderr",
     "output_type": "stream",
     "text": [
      "Epoch [106/250]: 100%|██████████| 5/5 [00:01<00:00,  4.02it/s, Train_Loss=1.07, Train_Accuracy=51.84%]\n"
     ]
    },
    {
     "name": "stdout",
     "output_type": "stream",
     "text": [
      "Val_Loss: 0.00   Val_Accuracy: 58.40\n"
     ]
    },
    {
     "name": "stderr",
     "output_type": "stream",
     "text": [
      "Epoch [107/250]: 100%|██████████| 5/5 [00:01<00:00,  4.15it/s, Train_Loss=1.06, Train_Accuracy=51.52%]\n"
     ]
    },
    {
     "name": "stdout",
     "output_type": "stream",
     "text": [
      "Val_Loss: 0.00   Val_Accuracy: 54.40\n"
     ]
    },
    {
     "name": "stderr",
     "output_type": "stream",
     "text": [
      "Epoch [108/250]: 100%|██████████| 5/5 [00:01<00:00,  4.12it/s, Train_Loss=1.08, Train_Accuracy=51.76%]\n"
     ]
    },
    {
     "name": "stdout",
     "output_type": "stream",
     "text": [
      "Val_Loss: 0.00   Val_Accuracy: 58.00\n"
     ]
    },
    {
     "name": "stderr",
     "output_type": "stream",
     "text": [
      "Epoch [109/250]: 100%|██████████| 5/5 [00:01<00:00,  4.10it/s, Train_Loss=1.15, Train_Accuracy=51.96%]\n"
     ]
    },
    {
     "name": "stdout",
     "output_type": "stream",
     "text": [
      "Val_Loss: 0.00   Val_Accuracy: 56.40\n"
     ]
    },
    {
     "name": "stderr",
     "output_type": "stream",
     "text": [
      "Epoch [110/250]: 100%|██████████| 5/5 [00:01<00:00,  4.09it/s, Train_Loss=1.09, Train_Accuracy=52.64%]\n"
     ]
    },
    {
     "name": "stdout",
     "output_type": "stream",
     "text": [
      "Val_Loss: 0.00   Val_Accuracy: 45.00\n"
     ]
    },
    {
     "name": "stderr",
     "output_type": "stream",
     "text": [
      "Epoch [111/250]: 100%|██████████| 5/5 [00:01<00:00,  4.03it/s, Train_Loss=1.05, Train_Accuracy=51.88%]\n"
     ]
    },
    {
     "name": "stdout",
     "output_type": "stream",
     "text": [
      "Val_Loss: 0.00   Val_Accuracy: 50.80\n"
     ]
    },
    {
     "name": "stderr",
     "output_type": "stream",
     "text": [
      "Epoch [112/250]: 100%|██████████| 5/5 [00:01<00:00,  4.13it/s, Train_Loss=1.11, Train_Accuracy=51.36%]\n"
     ]
    },
    {
     "name": "stdout",
     "output_type": "stream",
     "text": [
      "Val_Loss: 0.00   Val_Accuracy: 52.40\n"
     ]
    },
    {
     "name": "stderr",
     "output_type": "stream",
     "text": [
      "Epoch [113/250]: 100%|██████████| 5/5 [00:01<00:00,  4.08it/s, Train_Loss=1.06, Train_Accuracy=51.28%]\n"
     ]
    },
    {
     "name": "stdout",
     "output_type": "stream",
     "text": [
      "Val_Loss: 0.00   Val_Accuracy: 56.60\n"
     ]
    },
    {
     "name": "stderr",
     "output_type": "stream",
     "text": [
      "Epoch [114/250]: 100%|██████████| 5/5 [00:01<00:00,  4.08it/s, Train_Loss=1.07, Train_Accuracy=52.60%]\n"
     ]
    },
    {
     "name": "stdout",
     "output_type": "stream",
     "text": [
      "Val_Loss: 0.00   Val_Accuracy: 54.80\n"
     ]
    },
    {
     "name": "stderr",
     "output_type": "stream",
     "text": [
      "Epoch [115/250]: 100%|██████████| 5/5 [00:01<00:00,  4.06it/s, Train_Loss=1.08, Train_Accuracy=52.40%]\n"
     ]
    },
    {
     "name": "stdout",
     "output_type": "stream",
     "text": [
      "Val_Loss: 0.00   Val_Accuracy: 57.20\n"
     ]
    },
    {
     "name": "stderr",
     "output_type": "stream",
     "text": [
      "Epoch [116/250]: 100%|██████████| 5/5 [00:01<00:00,  4.09it/s, Train_Loss=1.09, Train_Accuracy=51.40%]\n"
     ]
    },
    {
     "name": "stdout",
     "output_type": "stream",
     "text": [
      "Val_Loss: 0.00   Val_Accuracy: 57.80\n"
     ]
    },
    {
     "name": "stderr",
     "output_type": "stream",
     "text": [
      "Epoch [117/250]: 100%|██████████| 5/5 [00:01<00:00,  4.11it/s, Train_Loss=0.994, Train_Accuracy=53.16%]\n"
     ]
    },
    {
     "name": "stdout",
     "output_type": "stream",
     "text": [
      "Val_Loss: 0.00   Val_Accuracy: 54.00\n"
     ]
    },
    {
     "name": "stderr",
     "output_type": "stream",
     "text": [
      "Epoch [118/250]: 100%|██████████| 5/5 [00:01<00:00,  4.11it/s, Train_Loss=1.1, Train_Accuracy=52.00%] \n"
     ]
    },
    {
     "name": "stdout",
     "output_type": "stream",
     "text": [
      "Val_Loss: 0.00   Val_Accuracy: 60.40\n"
     ]
    },
    {
     "name": "stderr",
     "output_type": "stream",
     "text": [
      "Epoch [119/250]: 100%|██████████| 5/5 [00:01<00:00,  4.06it/s, Train_Loss=1.06, Train_Accuracy=53.12%]\n"
     ]
    },
    {
     "name": "stdout",
     "output_type": "stream",
     "text": [
      "Val_Loss: 0.00   Val_Accuracy: 57.60\n"
     ]
    },
    {
     "name": "stderr",
     "output_type": "stream",
     "text": [
      "Epoch [120/250]: 100%|██████████| 5/5 [00:01<00:00,  4.05it/s, Train_Loss=1.14, Train_Accuracy=54.52%]\n"
     ]
    },
    {
     "name": "stdout",
     "output_type": "stream",
     "text": [
      "Val_Loss: 0.00   Val_Accuracy: 61.40\n"
     ]
    },
    {
     "name": "stderr",
     "output_type": "stream",
     "text": [
      "Epoch [121/250]: 100%|██████████| 5/5 [00:01<00:00,  4.06it/s, Train_Loss=1.07, Train_Accuracy=54.60%] \n"
     ]
    },
    {
     "name": "stdout",
     "output_type": "stream",
     "text": [
      "Val_Loss: 0.00   Val_Accuracy: 57.80\n"
     ]
    },
    {
     "name": "stderr",
     "output_type": "stream",
     "text": [
      "Epoch [122/250]: 100%|██████████| 5/5 [00:01<00:00,  4.05it/s, Train_Loss=1.06, Train_Accuracy=55.16%]\n"
     ]
    },
    {
     "name": "stdout",
     "output_type": "stream",
     "text": [
      "Val_Loss: 0.00   Val_Accuracy: 59.80\n"
     ]
    },
    {
     "name": "stderr",
     "output_type": "stream",
     "text": [
      "Epoch [123/250]: 100%|██████████| 5/5 [00:01<00:00,  4.11it/s, Train_Loss=0.997, Train_Accuracy=55.04%]\n"
     ]
    },
    {
     "name": "stdout",
     "output_type": "stream",
     "text": [
      "Val_Loss: 0.00   Val_Accuracy: 61.60\n"
     ]
    },
    {
     "name": "stderr",
     "output_type": "stream",
     "text": [
      "Epoch [124/250]: 100%|██████████| 5/5 [00:01<00:00,  4.13it/s, Train_Loss=1.13, Train_Accuracy=55.48%]\n"
     ]
    },
    {
     "name": "stdout",
     "output_type": "stream",
     "text": [
      "Val_Loss: 0.00   Val_Accuracy: 61.00\n"
     ]
    },
    {
     "name": "stderr",
     "output_type": "stream",
     "text": [
      "Epoch [125/250]: 100%|██████████| 5/5 [00:01<00:00,  4.08it/s, Train_Loss=1.06, Train_Accuracy=56.04%] \n"
     ]
    },
    {
     "name": "stdout",
     "output_type": "stream",
     "text": [
      "Val_Loss: 0.00   Val_Accuracy: 58.60\n"
     ]
    },
    {
     "name": "stderr",
     "output_type": "stream",
     "text": [
      "Epoch [126/250]: 100%|██████████| 5/5 [00:01<00:00,  4.03it/s, Train_Loss=1.09, Train_Accuracy=54.80%] \n"
     ]
    },
    {
     "name": "stdout",
     "output_type": "stream",
     "text": [
      "Val_Loss: 0.00   Val_Accuracy: 59.40\n"
     ]
    },
    {
     "name": "stderr",
     "output_type": "stream",
     "text": [
      "Epoch [127/250]: 100%|██████████| 5/5 [00:01<00:00,  4.05it/s, Train_Loss=1.01, Train_Accuracy=55.64%]\n"
     ]
    },
    {
     "name": "stdout",
     "output_type": "stream",
     "text": [
      "Val_Loss: 0.00   Val_Accuracy: 59.00\n"
     ]
    },
    {
     "name": "stderr",
     "output_type": "stream",
     "text": [
      "Epoch [128/250]: 100%|██████████| 5/5 [00:01<00:00,  4.01it/s, Train_Loss=1.09, Train_Accuracy=56.44%] \n"
     ]
    },
    {
     "name": "stdout",
     "output_type": "stream",
     "text": [
      "Val_Loss: 0.00   Val_Accuracy: 62.80\n"
     ]
    },
    {
     "name": "stderr",
     "output_type": "stream",
     "text": [
      "Epoch [129/250]: 100%|██████████| 5/5 [00:01<00:00,  4.08it/s, Train_Loss=0.991, Train_Accuracy=55.44%]\n"
     ]
    },
    {
     "name": "stdout",
     "output_type": "stream",
     "text": [
      "Val_Loss: 0.00   Val_Accuracy: 62.60\n"
     ]
    },
    {
     "name": "stderr",
     "output_type": "stream",
     "text": [
      "Epoch [130/250]: 100%|██████████| 5/5 [00:01<00:00,  4.13it/s, Train_Loss=1.07, Train_Accuracy=54.32%] \n"
     ]
    },
    {
     "name": "stdout",
     "output_type": "stream",
     "text": [
      "Val_Loss: 0.00   Val_Accuracy: 60.80\n"
     ]
    },
    {
     "name": "stderr",
     "output_type": "stream",
     "text": [
      "Epoch [131/250]: 100%|██████████| 5/5 [00:01<00:00,  4.08it/s, Train_Loss=1.03, Train_Accuracy=56.76%] \n"
     ]
    },
    {
     "name": "stdout",
     "output_type": "stream",
     "text": [
      "Val_Loss: 0.00   Val_Accuracy: 61.40\n"
     ]
    },
    {
     "name": "stderr",
     "output_type": "stream",
     "text": [
      "Epoch [132/250]: 100%|██████████| 5/5 [00:01<00:00,  4.11it/s, Train_Loss=0.992, Train_Accuracy=54.56%]\n"
     ]
    },
    {
     "name": "stdout",
     "output_type": "stream",
     "text": [
      "Val_Loss: 0.00   Val_Accuracy: 62.00\n"
     ]
    },
    {
     "name": "stderr",
     "output_type": "stream",
     "text": [
      "Epoch [133/250]: 100%|██████████| 5/5 [00:01<00:00,  4.07it/s, Train_Loss=0.976, Train_Accuracy=57.40%]\n"
     ]
    },
    {
     "name": "stdout",
     "output_type": "stream",
     "text": [
      "Val_Loss: 0.00   Val_Accuracy: 60.80\n"
     ]
    },
    {
     "name": "stderr",
     "output_type": "stream",
     "text": [
      "Epoch [134/250]: 100%|██████████| 5/5 [00:01<00:00,  4.11it/s, Train_Loss=0.968, Train_Accuracy=56.52%]\n"
     ]
    },
    {
     "name": "stdout",
     "output_type": "stream",
     "text": [
      "Val_Loss: 0.00   Val_Accuracy: 63.00\n"
     ]
    },
    {
     "name": "stderr",
     "output_type": "stream",
     "text": [
      "Epoch [135/250]: 100%|██████████| 5/5 [00:01<00:00,  4.06it/s, Train_Loss=1.03, Train_Accuracy=56.88%] \n"
     ]
    },
    {
     "name": "stdout",
     "output_type": "stream",
     "text": [
      "Val_Loss: 0.00   Val_Accuracy: 62.00\n"
     ]
    },
    {
     "name": "stderr",
     "output_type": "stream",
     "text": [
      "Epoch [136/250]: 100%|██████████| 5/5 [00:01<00:00,  4.14it/s, Train_Loss=1.06, Train_Accuracy=55.88%] \n"
     ]
    },
    {
     "name": "stdout",
     "output_type": "stream",
     "text": [
      "Val_Loss: 0.00   Val_Accuracy: 62.20\n"
     ]
    },
    {
     "name": "stderr",
     "output_type": "stream",
     "text": [
      "Epoch [137/250]: 100%|██████████| 5/5 [00:01<00:00,  4.11it/s, Train_Loss=1.06, Train_Accuracy=56.00%] \n"
     ]
    },
    {
     "name": "stdout",
     "output_type": "stream",
     "text": [
      "Val_Loss: 0.00   Val_Accuracy: 59.20\n"
     ]
    },
    {
     "name": "stderr",
     "output_type": "stream",
     "text": [
      "Epoch [138/250]: 100%|██████████| 5/5 [00:01<00:00,  4.04it/s, Train_Loss=0.922, Train_Accuracy=58.96%]\n"
     ]
    },
    {
     "name": "stdout",
     "output_type": "stream",
     "text": [
      "Val_Loss: 0.00   Val_Accuracy: 59.00\n"
     ]
    },
    {
     "name": "stderr",
     "output_type": "stream",
     "text": [
      "Epoch [139/250]: 100%|██████████| 5/5 [00:01<00:00,  4.05it/s, Train_Loss=0.984, Train_Accuracy=56.16%]\n"
     ]
    },
    {
     "name": "stdout",
     "output_type": "stream",
     "text": [
      "Val_Loss: 0.00   Val_Accuracy: 61.00\n"
     ]
    },
    {
     "name": "stderr",
     "output_type": "stream",
     "text": [
      "Epoch [140/250]: 100%|██████████| 5/5 [00:01<00:00,  4.10it/s, Train_Loss=0.99, Train_Accuracy=57.20%] \n"
     ]
    },
    {
     "name": "stdout",
     "output_type": "stream",
     "text": [
      "Val_Loss: 0.00   Val_Accuracy: 58.00\n"
     ]
    },
    {
     "name": "stderr",
     "output_type": "stream",
     "text": [
      "Epoch [141/250]: 100%|██████████| 5/5 [00:01<00:00,  4.16it/s, Train_Loss=0.977, Train_Accuracy=55.84%]\n"
     ]
    },
    {
     "name": "stdout",
     "output_type": "stream",
     "text": [
      "Val_Loss: 0.00   Val_Accuracy: 59.80\n"
     ]
    },
    {
     "name": "stderr",
     "output_type": "stream",
     "text": [
      "Epoch [142/250]: 100%|██████████| 5/5 [00:01<00:00,  4.14it/s, Train_Loss=0.994, Train_Accuracy=56.32%]\n"
     ]
    },
    {
     "name": "stdout",
     "output_type": "stream",
     "text": [
      "Val_Loss: 0.00   Val_Accuracy: 60.60\n"
     ]
    },
    {
     "name": "stderr",
     "output_type": "stream",
     "text": [
      "Epoch [143/250]: 100%|██████████| 5/5 [00:01<00:00,  4.10it/s, Train_Loss=0.989, Train_Accuracy=59.52%]\n"
     ]
    },
    {
     "name": "stdout",
     "output_type": "stream",
     "text": [
      "Val_Loss: 0.00   Val_Accuracy: 62.60\n"
     ]
    },
    {
     "name": "stderr",
     "output_type": "stream",
     "text": [
      "Epoch [144/250]: 100%|██████████| 5/5 [00:01<00:00,  4.05it/s, Train_Loss=0.967, Train_Accuracy=57.88%]\n"
     ]
    },
    {
     "name": "stdout",
     "output_type": "stream",
     "text": [
      "Val_Loss: 0.00   Val_Accuracy: 64.00\n"
     ]
    },
    {
     "name": "stderr",
     "output_type": "stream",
     "text": [
      "Epoch [145/250]: 100%|██████████| 5/5 [00:01<00:00,  4.13it/s, Train_Loss=0.925, Train_Accuracy=57.36%]\n"
     ]
    },
    {
     "name": "stdout",
     "output_type": "stream",
     "text": [
      "Val_Loss: 0.00   Val_Accuracy: 60.00\n"
     ]
    },
    {
     "name": "stderr",
     "output_type": "stream",
     "text": [
      "Epoch [146/250]: 100%|██████████| 5/5 [00:01<00:00,  4.09it/s, Train_Loss=0.951, Train_Accuracy=57.88%]\n"
     ]
    },
    {
     "name": "stdout",
     "output_type": "stream",
     "text": [
      "Val_Loss: 0.00   Val_Accuracy: 61.40\n"
     ]
    },
    {
     "name": "stderr",
     "output_type": "stream",
     "text": [
      "Epoch [147/250]: 100%|██████████| 5/5 [00:01<00:00,  4.16it/s, Train_Loss=0.989, Train_Accuracy=56.04%]\n"
     ]
    },
    {
     "name": "stdout",
     "output_type": "stream",
     "text": [
      "Val_Loss: 0.00   Val_Accuracy: 62.80\n"
     ]
    },
    {
     "name": "stderr",
     "output_type": "stream",
     "text": [
      "Epoch [148/250]: 100%|██████████| 5/5 [00:01<00:00,  4.02it/s, Train_Loss=0.976, Train_Accuracy=57.28%]\n"
     ]
    },
    {
     "name": "stdout",
     "output_type": "stream",
     "text": [
      "Val_Loss: 0.00   Val_Accuracy: 61.40\n"
     ]
    },
    {
     "name": "stderr",
     "output_type": "stream",
     "text": [
      "Epoch [149/250]: 100%|██████████| 5/5 [00:01<00:00,  4.18it/s, Train_Loss=0.973, Train_Accuracy=58.88%]\n"
     ]
    },
    {
     "name": "stdout",
     "output_type": "stream",
     "text": [
      "Val_Loss: 0.00   Val_Accuracy: 62.00\n"
     ]
    },
    {
     "name": "stderr",
     "output_type": "stream",
     "text": [
      "Epoch [150/250]: 100%|██████████| 5/5 [00:01<00:00,  4.10it/s, Train_Loss=0.973, Train_Accuracy=56.24%]\n"
     ]
    },
    {
     "name": "stdout",
     "output_type": "stream",
     "text": [
      "Val_Loss: 0.00   Val_Accuracy: 60.40\n"
     ]
    },
    {
     "name": "stderr",
     "output_type": "stream",
     "text": [
      "Epoch [151/250]: 100%|██████████| 5/5 [00:01<00:00,  4.14it/s, Train_Loss=0.951, Train_Accuracy=57.76%]\n"
     ]
    },
    {
     "name": "stdout",
     "output_type": "stream",
     "text": [
      "Val_Loss: 0.00   Val_Accuracy: 61.00\n"
     ]
    },
    {
     "name": "stderr",
     "output_type": "stream",
     "text": [
      "Epoch [152/250]: 100%|██████████| 5/5 [00:01<00:00,  4.11it/s, Train_Loss=0.978, Train_Accuracy=58.56%]\n"
     ]
    },
    {
     "name": "stdout",
     "output_type": "stream",
     "text": [
      "Val_Loss: 0.00   Val_Accuracy: 62.20\n"
     ]
    },
    {
     "name": "stderr",
     "output_type": "stream",
     "text": [
      "Epoch [153/250]: 100%|██████████| 5/5 [00:01<00:00,  4.12it/s, Train_Loss=0.961, Train_Accuracy=58.64%]\n"
     ]
    },
    {
     "name": "stdout",
     "output_type": "stream",
     "text": [
      "Val_Loss: 0.00   Val_Accuracy: 61.20\n"
     ]
    },
    {
     "name": "stderr",
     "output_type": "stream",
     "text": [
      "Epoch [154/250]: 100%|██████████| 5/5 [00:01<00:00,  4.11it/s, Train_Loss=0.93, Train_Accuracy=59.16%] \n"
     ]
    },
    {
     "name": "stdout",
     "output_type": "stream",
     "text": [
      "Val_Loss: 0.00   Val_Accuracy: 67.00\n"
     ]
    },
    {
     "name": "stderr",
     "output_type": "stream",
     "text": [
      "Epoch [155/250]: 100%|██████████| 5/5 [00:01<00:00,  4.15it/s, Train_Loss=0.983, Train_Accuracy=60.20%]\n"
     ]
    },
    {
     "name": "stdout",
     "output_type": "stream",
     "text": [
      "Val_Loss: 0.00   Val_Accuracy: 64.20\n"
     ]
    },
    {
     "name": "stderr",
     "output_type": "stream",
     "text": [
      "Epoch [156/250]: 100%|██████████| 5/5 [00:01<00:00,  4.07it/s, Train_Loss=1.04, Train_Accuracy=57.52%] \n"
     ]
    },
    {
     "name": "stdout",
     "output_type": "stream",
     "text": [
      "Val_Loss: 0.00   Val_Accuracy: 63.00\n"
     ]
    },
    {
     "name": "stderr",
     "output_type": "stream",
     "text": [
      "Epoch [157/250]: 100%|██████████| 5/5 [00:01<00:00,  4.17it/s, Train_Loss=0.955, Train_Accuracy=59.28%]\n"
     ]
    },
    {
     "name": "stdout",
     "output_type": "stream",
     "text": [
      "Val_Loss: 0.00   Val_Accuracy: 62.40\n"
     ]
    },
    {
     "name": "stderr",
     "output_type": "stream",
     "text": [
      "Epoch [158/250]: 100%|██████████| 5/5 [00:01<00:00,  4.05it/s, Train_Loss=0.938, Train_Accuracy=58.56%]\n"
     ]
    },
    {
     "name": "stdout",
     "output_type": "stream",
     "text": [
      "Val_Loss: 0.00   Val_Accuracy: 64.00\n"
     ]
    },
    {
     "name": "stderr",
     "output_type": "stream",
     "text": [
      "Epoch [159/250]: 100%|██████████| 5/5 [00:01<00:00,  4.15it/s, Train_Loss=0.956, Train_Accuracy=59.36%]\n"
     ]
    },
    {
     "name": "stdout",
     "output_type": "stream",
     "text": [
      "Val_Loss: 0.00   Val_Accuracy: 65.20\n"
     ]
    },
    {
     "name": "stderr",
     "output_type": "stream",
     "text": [
      "Epoch [160/250]: 100%|██████████| 5/5 [00:01<00:00,  4.06it/s, Train_Loss=1.03, Train_Accuracy=60.12%] \n"
     ]
    },
    {
     "name": "stdout",
     "output_type": "stream",
     "text": [
      "Val_Loss: 0.00   Val_Accuracy: 65.20\n"
     ]
    },
    {
     "name": "stderr",
     "output_type": "stream",
     "text": [
      "Epoch [161/250]: 100%|██████████| 5/5 [00:01<00:00,  4.15it/s, Train_Loss=0.963, Train_Accuracy=59.36%]\n"
     ]
    },
    {
     "name": "stdout",
     "output_type": "stream",
     "text": [
      "Val_Loss: 0.00   Val_Accuracy: 65.20\n"
     ]
    },
    {
     "name": "stderr",
     "output_type": "stream",
     "text": [
      "Epoch [162/250]: 100%|██████████| 5/5 [00:01<00:00,  4.03it/s, Train_Loss=0.95, Train_Accuracy=59.48%] \n"
     ]
    },
    {
     "name": "stdout",
     "output_type": "stream",
     "text": [
      "Val_Loss: 0.00   Val_Accuracy: 64.00\n"
     ]
    },
    {
     "name": "stderr",
     "output_type": "stream",
     "text": [
      "Epoch [163/250]: 100%|██████████| 5/5 [00:01<00:00,  4.04it/s, Train_Loss=1.01, Train_Accuracy=59.12%] \n"
     ]
    },
    {
     "name": "stdout",
     "output_type": "stream",
     "text": [
      "Val_Loss: 0.00   Val_Accuracy: 62.40\n"
     ]
    },
    {
     "name": "stderr",
     "output_type": "stream",
     "text": [
      "Epoch [164/250]: 100%|██████████| 5/5 [00:01<00:00,  4.05it/s, Train_Loss=0.9, Train_Accuracy=60.44%]  \n"
     ]
    },
    {
     "name": "stdout",
     "output_type": "stream",
     "text": [
      "Val_Loss: 0.00   Val_Accuracy: 63.20\n"
     ]
    },
    {
     "name": "stderr",
     "output_type": "stream",
     "text": [
      "Epoch [165/250]: 100%|██████████| 5/5 [00:01<00:00,  4.13it/s, Train_Loss=0.991, Train_Accuracy=58.08%]\n"
     ]
    },
    {
     "name": "stdout",
     "output_type": "stream",
     "text": [
      "Val_Loss: 0.00   Val_Accuracy: 63.40\n"
     ]
    },
    {
     "name": "stderr",
     "output_type": "stream",
     "text": [
      "Epoch [166/250]: 100%|██████████| 5/5 [00:01<00:00,  4.14it/s, Train_Loss=0.899, Train_Accuracy=60.60%]\n"
     ]
    },
    {
     "name": "stdout",
     "output_type": "stream",
     "text": [
      "Val_Loss: 0.00   Val_Accuracy: 64.40\n"
     ]
    },
    {
     "name": "stderr",
     "output_type": "stream",
     "text": [
      "Epoch [167/250]: 100%|██████████| 5/5 [00:01<00:00,  4.06it/s, Train_Loss=0.928, Train_Accuracy=60.28%]\n"
     ]
    },
    {
     "name": "stdout",
     "output_type": "stream",
     "text": [
      "Val_Loss: 0.00   Val_Accuracy: 63.40\n"
     ]
    },
    {
     "name": "stderr",
     "output_type": "stream",
     "text": [
      "Epoch [168/250]: 100%|██████████| 5/5 [00:01<00:00,  4.13it/s, Train_Loss=0.961, Train_Accuracy=59.84%]\n"
     ]
    },
    {
     "name": "stdout",
     "output_type": "stream",
     "text": [
      "Val_Loss: 0.00   Val_Accuracy: 63.20\n"
     ]
    },
    {
     "name": "stderr",
     "output_type": "stream",
     "text": [
      "Epoch [169/250]: 100%|██████████| 5/5 [00:01<00:00,  4.07it/s, Train_Loss=0.953, Train_Accuracy=60.32%]\n"
     ]
    },
    {
     "name": "stdout",
     "output_type": "stream",
     "text": [
      "Val_Loss: 0.00   Val_Accuracy: 62.60\n"
     ]
    },
    {
     "name": "stderr",
     "output_type": "stream",
     "text": [
      "Epoch [170/250]: 100%|██████████| 5/5 [00:01<00:00,  4.02it/s, Train_Loss=0.936, Train_Accuracy=58.68%]\n"
     ]
    },
    {
     "name": "stdout",
     "output_type": "stream",
     "text": [
      "Val_Loss: 0.00   Val_Accuracy: 62.00\n"
     ]
    },
    {
     "name": "stderr",
     "output_type": "stream",
     "text": [
      "Epoch [171/250]: 100%|██████████| 5/5 [00:01<00:00,  4.12it/s, Train_Loss=0.962, Train_Accuracy=60.48%]\n"
     ]
    },
    {
     "name": "stdout",
     "output_type": "stream",
     "text": [
      "Val_Loss: 0.00   Val_Accuracy: 63.80\n"
     ]
    },
    {
     "name": "stderr",
     "output_type": "stream",
     "text": [
      "Epoch [172/250]: 100%|██████████| 5/5 [00:01<00:00,  4.15it/s, Train_Loss=0.932, Train_Accuracy=61.00%]\n"
     ]
    },
    {
     "name": "stdout",
     "output_type": "stream",
     "text": [
      "Val_Loss: 0.00   Val_Accuracy: 64.40\n"
     ]
    },
    {
     "name": "stderr",
     "output_type": "stream",
     "text": [
      "Epoch [173/250]: 100%|██████████| 5/5 [00:01<00:00,  4.16it/s, Train_Loss=0.95, Train_Accuracy=58.52%] \n"
     ]
    },
    {
     "name": "stdout",
     "output_type": "stream",
     "text": [
      "Val_Loss: 0.00   Val_Accuracy: 64.60\n"
     ]
    },
    {
     "name": "stderr",
     "output_type": "stream",
     "text": [
      "Epoch [174/250]: 100%|██████████| 5/5 [00:01<00:00,  4.14it/s, Train_Loss=0.968, Train_Accuracy=58.88%]\n"
     ]
    },
    {
     "name": "stdout",
     "output_type": "stream",
     "text": [
      "Val_Loss: 0.00   Val_Accuracy: 63.40\n"
     ]
    },
    {
     "name": "stderr",
     "output_type": "stream",
     "text": [
      "Epoch [175/250]: 100%|██████████| 5/5 [00:01<00:00,  4.07it/s, Train_Loss=0.885, Train_Accuracy=60.96%]\n"
     ]
    },
    {
     "name": "stdout",
     "output_type": "stream",
     "text": [
      "Val_Loss: 0.00   Val_Accuracy: 63.00\n"
     ]
    },
    {
     "name": "stderr",
     "output_type": "stream",
     "text": [
      "Epoch [176/250]: 100%|██████████| 5/5 [00:01<00:00,  4.02it/s, Train_Loss=0.871, Train_Accuracy=61.00%]\n"
     ]
    },
    {
     "name": "stdout",
     "output_type": "stream",
     "text": [
      "Val_Loss: 0.00   Val_Accuracy: 63.60\n"
     ]
    },
    {
     "name": "stderr",
     "output_type": "stream",
     "text": [
      "Epoch [177/250]: 100%|██████████| 5/5 [00:01<00:00,  4.16it/s, Train_Loss=0.89, Train_Accuracy=60.04%] \n"
     ]
    },
    {
     "name": "stdout",
     "output_type": "stream",
     "text": [
      "Val_Loss: 0.00   Val_Accuracy: 66.20\n"
     ]
    },
    {
     "name": "stderr",
     "output_type": "stream",
     "text": [
      "Epoch [178/250]: 100%|██████████| 5/5 [00:01<00:00,  4.11it/s, Train_Loss=0.811, Train_Accuracy=61.40%]\n"
     ]
    },
    {
     "name": "stdout",
     "output_type": "stream",
     "text": [
      "Val_Loss: 0.00   Val_Accuracy: 66.20\n"
     ]
    },
    {
     "name": "stderr",
     "output_type": "stream",
     "text": [
      "Epoch [179/250]: 100%|██████████| 5/5 [00:01<00:00,  4.03it/s, Train_Loss=0.949, Train_Accuracy=60.12%]\n"
     ]
    },
    {
     "name": "stdout",
     "output_type": "stream",
     "text": [
      "Val_Loss: 0.00   Val_Accuracy: 64.60\n"
     ]
    },
    {
     "name": "stderr",
     "output_type": "stream",
     "text": [
      "Epoch [180/250]: 100%|██████████| 5/5 [00:01<00:00,  4.06it/s, Train_Loss=0.897, Train_Accuracy=60.64%]\n"
     ]
    },
    {
     "name": "stdout",
     "output_type": "stream",
     "text": [
      "Val_Loss: 0.00   Val_Accuracy: 65.00\n"
     ]
    },
    {
     "name": "stderr",
     "output_type": "stream",
     "text": [
      "Epoch [181/250]: 100%|██████████| 5/5 [00:01<00:00,  4.11it/s, Train_Loss=0.941, Train_Accuracy=60.88%]\n"
     ]
    },
    {
     "name": "stdout",
     "output_type": "stream",
     "text": [
      "Val_Loss: 0.00   Val_Accuracy: 64.80\n"
     ]
    },
    {
     "name": "stderr",
     "output_type": "stream",
     "text": [
      "Epoch [182/250]: 100%|██████████| 5/5 [00:01<00:00,  4.05it/s, Train_Loss=0.866, Train_Accuracy=59.88%]\n"
     ]
    },
    {
     "name": "stdout",
     "output_type": "stream",
     "text": [
      "Val_Loss: 0.00   Val_Accuracy: 66.00\n"
     ]
    },
    {
     "name": "stderr",
     "output_type": "stream",
     "text": [
      "Epoch [183/250]: 100%|██████████| 5/5 [00:01<00:00,  4.17it/s, Train_Loss=0.944, Train_Accuracy=60.36%]\n"
     ]
    },
    {
     "name": "stdout",
     "output_type": "stream",
     "text": [
      "Val_Loss: 0.00   Val_Accuracy: 64.00\n"
     ]
    },
    {
     "name": "stderr",
     "output_type": "stream",
     "text": [
      "Epoch [184/250]: 100%|██████████| 5/5 [00:01<00:00,  4.12it/s, Train_Loss=0.968, Train_Accuracy=62.16%]\n"
     ]
    },
    {
     "name": "stdout",
     "output_type": "stream",
     "text": [
      "Val_Loss: 0.00   Val_Accuracy: 64.40\n"
     ]
    },
    {
     "name": "stderr",
     "output_type": "stream",
     "text": [
      "Epoch [185/250]: 100%|██████████| 5/5 [00:01<00:00,  4.17it/s, Train_Loss=0.891, Train_Accuracy=60.04%]\n"
     ]
    },
    {
     "name": "stdout",
     "output_type": "stream",
     "text": [
      "Val_Loss: 0.00   Val_Accuracy: 64.40\n"
     ]
    },
    {
     "name": "stderr",
     "output_type": "stream",
     "text": [
      "Epoch [186/250]: 100%|██████████| 5/5 [00:01<00:00,  4.10it/s, Train_Loss=0.938, Train_Accuracy=59.64%]\n"
     ]
    },
    {
     "name": "stdout",
     "output_type": "stream",
     "text": [
      "Val_Loss: 0.00   Val_Accuracy: 63.60\n"
     ]
    },
    {
     "name": "stderr",
     "output_type": "stream",
     "text": [
      "Epoch [187/250]: 100%|██████████| 5/5 [00:01<00:00,  4.08it/s, Train_Loss=1, Train_Accuracy=59.92%]    \n"
     ]
    },
    {
     "name": "stdout",
     "output_type": "stream",
     "text": [
      "Val_Loss: 0.00   Val_Accuracy: 64.60\n"
     ]
    },
    {
     "name": "stderr",
     "output_type": "stream",
     "text": [
      "Epoch [188/250]: 100%|██████████| 5/5 [00:01<00:00,  4.07it/s, Train_Loss=0.884, Train_Accuracy=60.96%]\n"
     ]
    },
    {
     "name": "stdout",
     "output_type": "stream",
     "text": [
      "Val_Loss: 0.00   Val_Accuracy: 64.40\n"
     ]
    },
    {
     "name": "stderr",
     "output_type": "stream",
     "text": [
      "Epoch [189/250]: 100%|██████████| 5/5 [00:01<00:00,  4.12it/s, Train_Loss=0.931, Train_Accuracy=60.00%]\n"
     ]
    },
    {
     "name": "stdout",
     "output_type": "stream",
     "text": [
      "Val_Loss: 0.00   Val_Accuracy: 65.80\n"
     ]
    },
    {
     "name": "stderr",
     "output_type": "stream",
     "text": [
      "Epoch [190/250]: 100%|██████████| 5/5 [00:01<00:00,  4.09it/s, Train_Loss=0.893, Train_Accuracy=60.80%]\n"
     ]
    },
    {
     "name": "stdout",
     "output_type": "stream",
     "text": [
      "Val_Loss: 0.00   Val_Accuracy: 65.80\n"
     ]
    },
    {
     "name": "stderr",
     "output_type": "stream",
     "text": [
      "Epoch [191/250]: 100%|██████████| 5/5 [00:01<00:00,  4.13it/s, Train_Loss=0.872, Train_Accuracy=62.16%]\n"
     ]
    },
    {
     "name": "stdout",
     "output_type": "stream",
     "text": [
      "Val_Loss: 0.00   Val_Accuracy: 66.60\n"
     ]
    },
    {
     "name": "stderr",
     "output_type": "stream",
     "text": [
      "Epoch [192/250]: 100%|██████████| 5/5 [00:01<00:00,  4.07it/s, Train_Loss=0.884, Train_Accuracy=60.72%]\n"
     ]
    },
    {
     "name": "stdout",
     "output_type": "stream",
     "text": [
      "Val_Loss: 0.00   Val_Accuracy: 66.20\n"
     ]
    },
    {
     "name": "stderr",
     "output_type": "stream",
     "text": [
      "Epoch [193/250]: 100%|██████████| 5/5 [00:01<00:00,  4.12it/s, Train_Loss=0.898, Train_Accuracy=60.40%]\n"
     ]
    },
    {
     "name": "stdout",
     "output_type": "stream",
     "text": [
      "Val_Loss: 0.00   Val_Accuracy: 65.60\n"
     ]
    },
    {
     "name": "stderr",
     "output_type": "stream",
     "text": [
      "Epoch [194/250]: 100%|██████████| 5/5 [00:01<00:00,  4.14it/s, Train_Loss=0.99, Train_Accuracy=60.64%] \n"
     ]
    },
    {
     "name": "stdout",
     "output_type": "stream",
     "text": [
      "Val_Loss: 0.00   Val_Accuracy: 66.40\n"
     ]
    },
    {
     "name": "stderr",
     "output_type": "stream",
     "text": [
      "Epoch [195/250]: 100%|██████████| 5/5 [00:01<00:00,  4.17it/s, Train_Loss=0.926, Train_Accuracy=61.60%]\n"
     ]
    },
    {
     "name": "stdout",
     "output_type": "stream",
     "text": [
      "Val_Loss: 0.00   Val_Accuracy: 66.00\n"
     ]
    },
    {
     "name": "stderr",
     "output_type": "stream",
     "text": [
      "Epoch [196/250]: 100%|██████████| 5/5 [00:01<00:00,  4.11it/s, Train_Loss=0.973, Train_Accuracy=58.76%]\n"
     ]
    },
    {
     "name": "stdout",
     "output_type": "stream",
     "text": [
      "Val_Loss: 0.00   Val_Accuracy: 64.80\n"
     ]
    },
    {
     "name": "stderr",
     "output_type": "stream",
     "text": [
      "Epoch [197/250]: 100%|██████████| 5/5 [00:01<00:00,  4.06it/s, Train_Loss=0.92, Train_Accuracy=62.44%] \n"
     ]
    },
    {
     "name": "stdout",
     "output_type": "stream",
     "text": [
      "Val_Loss: 0.00   Val_Accuracy: 64.60\n"
     ]
    },
    {
     "name": "stderr",
     "output_type": "stream",
     "text": [
      "Epoch [198/250]: 100%|██████████| 5/5 [00:01<00:00,  4.19it/s, Train_Loss=0.879, Train_Accuracy=61.16%]\n"
     ]
    },
    {
     "name": "stdout",
     "output_type": "stream",
     "text": [
      "Val_Loss: 0.00   Val_Accuracy: 65.40\n"
     ]
    },
    {
     "name": "stderr",
     "output_type": "stream",
     "text": [
      "Epoch [199/250]: 100%|██████████| 5/5 [00:01<00:00,  4.11it/s, Train_Loss=0.926, Train_Accuracy=60.72%]\n"
     ]
    },
    {
     "name": "stdout",
     "output_type": "stream",
     "text": [
      "Val_Loss: 0.00   Val_Accuracy: 65.80\n"
     ]
    },
    {
     "name": "stderr",
     "output_type": "stream",
     "text": [
      "Epoch [200/250]: 100%|██████████| 5/5 [00:01<00:00,  4.04it/s, Train_Loss=0.861, Train_Accuracy=61.40%]\n"
     ]
    },
    {
     "name": "stdout",
     "output_type": "stream",
     "text": [
      "Val_Loss: 0.00   Val_Accuracy: 66.20\n"
     ]
    },
    {
     "name": "stderr",
     "output_type": "stream",
     "text": [
      "Epoch [201/250]: 100%|██████████| 5/5 [00:01<00:00,  4.13it/s, Train_Loss=0.897, Train_Accuracy=61.48%]\n"
     ]
    },
    {
     "name": "stdout",
     "output_type": "stream",
     "text": [
      "Val_Loss: 0.00   Val_Accuracy: 66.00\n"
     ]
    },
    {
     "name": "stderr",
     "output_type": "stream",
     "text": [
      "Epoch [202/250]: 100%|██████████| 5/5 [00:01<00:00,  4.17it/s, Train_Loss=0.866, Train_Accuracy=61.44%]\n"
     ]
    },
    {
     "name": "stdout",
     "output_type": "stream",
     "text": [
      "Val_Loss: 0.00   Val_Accuracy: 65.40\n"
     ]
    },
    {
     "name": "stderr",
     "output_type": "stream",
     "text": [
      "Epoch [203/250]: 100%|██████████| 5/5 [00:01<00:00,  4.13it/s, Train_Loss=0.837, Train_Accuracy=61.88%]\n"
     ]
    },
    {
     "name": "stdout",
     "output_type": "stream",
     "text": [
      "Val_Loss: 0.00   Val_Accuracy: 64.60\n"
     ]
    },
    {
     "name": "stderr",
     "output_type": "stream",
     "text": [
      "Epoch [204/250]: 100%|██████████| 5/5 [00:01<00:00,  4.10it/s, Train_Loss=0.815, Train_Accuracy=59.04%]\n"
     ]
    },
    {
     "name": "stdout",
     "output_type": "stream",
     "text": [
      "Val_Loss: 0.00   Val_Accuracy: 64.20\n"
     ]
    },
    {
     "name": "stderr",
     "output_type": "stream",
     "text": [
      "Epoch [205/250]: 100%|██████████| 5/5 [00:01<00:00,  4.13it/s, Train_Loss=0.945, Train_Accuracy=60.08%]\n"
     ]
    },
    {
     "name": "stdout",
     "output_type": "stream",
     "text": [
      "Val_Loss: 0.00   Val_Accuracy: 64.40\n"
     ]
    },
    {
     "name": "stderr",
     "output_type": "stream",
     "text": [
      "Epoch [206/250]: 100%|██████████| 5/5 [00:01<00:00,  4.13it/s, Train_Loss=0.978, Train_Accuracy=61.68%]\n"
     ]
    },
    {
     "name": "stdout",
     "output_type": "stream",
     "text": [
      "Val_Loss: 0.00   Val_Accuracy: 66.60\n"
     ]
    },
    {
     "name": "stderr",
     "output_type": "stream",
     "text": [
      "Epoch [207/250]: 100%|██████████| 5/5 [00:01<00:00,  4.18it/s, Train_Loss=0.877, Train_Accuracy=61.08%]\n"
     ]
    },
    {
     "name": "stdout",
     "output_type": "stream",
     "text": [
      "Val_Loss: 0.00   Val_Accuracy: 65.60\n"
     ]
    },
    {
     "name": "stderr",
     "output_type": "stream",
     "text": [
      "Epoch [208/250]: 100%|██████████| 5/5 [00:01<00:00,  4.06it/s, Train_Loss=0.89, Train_Accuracy=60.60%] \n"
     ]
    },
    {
     "name": "stdout",
     "output_type": "stream",
     "text": [
      "Val_Loss: 0.00   Val_Accuracy: 67.80\n"
     ]
    },
    {
     "name": "stderr",
     "output_type": "stream",
     "text": [
      "Epoch [209/250]: 100%|██████████| 5/5 [00:01<00:00,  4.16it/s, Train_Loss=0.914, Train_Accuracy=62.36%]\n"
     ]
    },
    {
     "name": "stdout",
     "output_type": "stream",
     "text": [
      "Val_Loss: 0.00   Val_Accuracy: 67.60\n"
     ]
    },
    {
     "name": "stderr",
     "output_type": "stream",
     "text": [
      "Epoch [210/250]: 100%|██████████| 5/5 [00:01<00:00,  4.12it/s, Train_Loss=0.963, Train_Accuracy=62.04%]\n"
     ]
    },
    {
     "name": "stdout",
     "output_type": "stream",
     "text": [
      "Val_Loss: 0.00   Val_Accuracy: 66.40\n"
     ]
    },
    {
     "name": "stderr",
     "output_type": "stream",
     "text": [
      "Epoch [211/250]: 100%|██████████| 5/5 [00:01<00:00,  4.07it/s, Train_Loss=0.871, Train_Accuracy=61.32%]\n"
     ]
    },
    {
     "name": "stdout",
     "output_type": "stream",
     "text": [
      "Val_Loss: 0.00   Val_Accuracy: 65.20\n"
     ]
    },
    {
     "name": "stderr",
     "output_type": "stream",
     "text": [
      "Epoch [212/250]: 100%|██████████| 5/5 [00:01<00:00,  4.15it/s, Train_Loss=0.912, Train_Accuracy=61.08%]\n"
     ]
    },
    {
     "name": "stdout",
     "output_type": "stream",
     "text": [
      "Val_Loss: 0.00   Val_Accuracy: 65.20\n"
     ]
    },
    {
     "name": "stderr",
     "output_type": "stream",
     "text": [
      "Epoch [213/250]: 100%|██████████| 5/5 [00:01<00:00,  4.17it/s, Train_Loss=0.915, Train_Accuracy=61.04%]\n"
     ]
    },
    {
     "name": "stdout",
     "output_type": "stream",
     "text": [
      "Val_Loss: 0.00   Val_Accuracy: 65.80\n"
     ]
    },
    {
     "name": "stderr",
     "output_type": "stream",
     "text": [
      "Epoch [214/250]: 100%|██████████| 5/5 [00:01<00:00,  4.12it/s, Train_Loss=0.93, Train_Accuracy=61.52%] \n"
     ]
    },
    {
     "name": "stdout",
     "output_type": "stream",
     "text": [
      "Val_Loss: 0.00   Val_Accuracy: 65.40\n"
     ]
    },
    {
     "name": "stderr",
     "output_type": "stream",
     "text": [
      "Epoch [215/250]: 100%|██████████| 5/5 [00:01<00:00,  4.16it/s, Train_Loss=0.939, Train_Accuracy=61.36%]\n"
     ]
    },
    {
     "name": "stdout",
     "output_type": "stream",
     "text": [
      "Val_Loss: 0.00   Val_Accuracy: 66.60\n"
     ]
    },
    {
     "name": "stderr",
     "output_type": "stream",
     "text": [
      "Epoch [216/250]: 100%|██████████| 5/5 [00:01<00:00,  4.08it/s, Train_Loss=0.843, Train_Accuracy=60.88%]\n"
     ]
    },
    {
     "name": "stdout",
     "output_type": "stream",
     "text": [
      "Val_Loss: 0.00   Val_Accuracy: 67.20\n"
     ]
    },
    {
     "name": "stderr",
     "output_type": "stream",
     "text": [
      "Epoch [217/250]: 100%|██████████| 5/5 [00:01<00:00,  4.08it/s, Train_Loss=0.913, Train_Accuracy=62.64%]\n"
     ]
    },
    {
     "name": "stdout",
     "output_type": "stream",
     "text": [
      "Val_Loss: 0.00   Val_Accuracy: 66.80\n"
     ]
    },
    {
     "name": "stderr",
     "output_type": "stream",
     "text": [
      "Epoch [218/250]: 100%|██████████| 5/5 [00:01<00:00,  4.11it/s, Train_Loss=0.924, Train_Accuracy=60.48%]\n"
     ]
    },
    {
     "name": "stdout",
     "output_type": "stream",
     "text": [
      "Val_Loss: 0.00   Val_Accuracy: 65.60\n"
     ]
    },
    {
     "name": "stderr",
     "output_type": "stream",
     "text": [
      "Epoch [219/250]: 100%|██████████| 5/5 [00:01<00:00,  4.04it/s, Train_Loss=0.9, Train_Accuracy=61.88%]  \n"
     ]
    },
    {
     "name": "stdout",
     "output_type": "stream",
     "text": [
      "Val_Loss: 0.00   Val_Accuracy: 65.40\n"
     ]
    },
    {
     "name": "stderr",
     "output_type": "stream",
     "text": [
      "Epoch [220/250]: 100%|██████████| 5/5 [00:01<00:00,  4.09it/s, Train_Loss=0.883, Train_Accuracy=62.16%]\n"
     ]
    },
    {
     "name": "stdout",
     "output_type": "stream",
     "text": [
      "Val_Loss: 0.00   Val_Accuracy: 65.60\n"
     ]
    },
    {
     "name": "stderr",
     "output_type": "stream",
     "text": [
      "Epoch [221/250]: 100%|██████████| 5/5 [00:01<00:00,  4.07it/s, Train_Loss=0.946, Train_Accuracy=61.60%]\n"
     ]
    },
    {
     "name": "stdout",
     "output_type": "stream",
     "text": [
      "Val_Loss: 0.00   Val_Accuracy: 67.40\n"
     ]
    },
    {
     "name": "stderr",
     "output_type": "stream",
     "text": [
      "Epoch [222/250]: 100%|██████████| 5/5 [00:01<00:00,  4.14it/s, Train_Loss=0.918, Train_Accuracy=62.28%]\n"
     ]
    },
    {
     "name": "stdout",
     "output_type": "stream",
     "text": [
      "Val_Loss: 0.00   Val_Accuracy: 66.80\n"
     ]
    },
    {
     "name": "stderr",
     "output_type": "stream",
     "text": [
      "Epoch [223/250]: 100%|██████████| 5/5 [00:01<00:00,  4.13it/s, Train_Loss=0.891, Train_Accuracy=62.20%]\n"
     ]
    },
    {
     "name": "stdout",
     "output_type": "stream",
     "text": [
      "Val_Loss: 0.00   Val_Accuracy: 66.40\n"
     ]
    },
    {
     "name": "stderr",
     "output_type": "stream",
     "text": [
      "Epoch [224/250]: 100%|██████████| 5/5 [00:01<00:00,  4.13it/s, Train_Loss=0.948, Train_Accuracy=61.16%]\n"
     ]
    },
    {
     "name": "stdout",
     "output_type": "stream",
     "text": [
      "Val_Loss: 0.00   Val_Accuracy: 66.80\n"
     ]
    },
    {
     "name": "stderr",
     "output_type": "stream",
     "text": [
      "Epoch [225/250]: 100%|██████████| 5/5 [00:01<00:00,  4.08it/s, Train_Loss=0.888, Train_Accuracy=63.60%]\n"
     ]
    },
    {
     "name": "stdout",
     "output_type": "stream",
     "text": [
      "Val_Loss: 0.00   Val_Accuracy: 67.00\n"
     ]
    },
    {
     "name": "stderr",
     "output_type": "stream",
     "text": [
      "Epoch [226/250]: 100%|██████████| 5/5 [00:01<00:00,  4.10it/s, Train_Loss=0.852, Train_Accuracy=61.84%]\n"
     ]
    },
    {
     "name": "stdout",
     "output_type": "stream",
     "text": [
      "Val_Loss: 0.00   Val_Accuracy: 66.60\n"
     ]
    },
    {
     "name": "stderr",
     "output_type": "stream",
     "text": [
      "Epoch [227/250]: 100%|██████████| 5/5 [00:01<00:00,  4.10it/s, Train_Loss=0.979, Train_Accuracy=62.80%]\n"
     ]
    },
    {
     "name": "stdout",
     "output_type": "stream",
     "text": [
      "Val_Loss: 0.00   Val_Accuracy: 66.60\n"
     ]
    },
    {
     "name": "stderr",
     "output_type": "stream",
     "text": [
      "Epoch [228/250]: 100%|██████████| 5/5 [00:01<00:00,  4.03it/s, Train_Loss=0.878, Train_Accuracy=61.60%]\n"
     ]
    },
    {
     "name": "stdout",
     "output_type": "stream",
     "text": [
      "Val_Loss: 0.00   Val_Accuracy: 67.80\n"
     ]
    },
    {
     "name": "stderr",
     "output_type": "stream",
     "text": [
      "Epoch [229/250]: 100%|██████████| 5/5 [00:01<00:00,  4.03it/s, Train_Loss=0.888, Train_Accuracy=60.60%]\n"
     ]
    },
    {
     "name": "stdout",
     "output_type": "stream",
     "text": [
      "Val_Loss: 0.00   Val_Accuracy: 66.60\n"
     ]
    },
    {
     "name": "stderr",
     "output_type": "stream",
     "text": [
      "Epoch [230/250]: 100%|██████████| 5/5 [00:01<00:00,  4.16it/s, Train_Loss=0.864, Train_Accuracy=62.36%]\n"
     ]
    },
    {
     "name": "stdout",
     "output_type": "stream",
     "text": [
      "Val_Loss: 0.00   Val_Accuracy: 65.80\n"
     ]
    },
    {
     "name": "stderr",
     "output_type": "stream",
     "text": [
      "Epoch [231/250]: 100%|██████████| 5/5 [00:01<00:00,  4.16it/s, Train_Loss=0.873, Train_Accuracy=63.20%]\n"
     ]
    },
    {
     "name": "stdout",
     "output_type": "stream",
     "text": [
      "Val_Loss: 0.00   Val_Accuracy: 65.40\n"
     ]
    },
    {
     "name": "stderr",
     "output_type": "stream",
     "text": [
      "Epoch [232/250]: 100%|██████████| 5/5 [00:01<00:00,  4.17it/s, Train_Loss=0.817, Train_Accuracy=61.96%]\n"
     ]
    },
    {
     "name": "stdout",
     "output_type": "stream",
     "text": [
      "Val_Loss: 0.00   Val_Accuracy: 66.20\n"
     ]
    },
    {
     "name": "stderr",
     "output_type": "stream",
     "text": [
      "Epoch [233/250]: 100%|██████████| 5/5 [00:01<00:00,  4.09it/s, Train_Loss=0.928, Train_Accuracy=62.16%]\n"
     ]
    },
    {
     "name": "stdout",
     "output_type": "stream",
     "text": [
      "Val_Loss: 0.00   Val_Accuracy: 65.40\n"
     ]
    },
    {
     "name": "stderr",
     "output_type": "stream",
     "text": [
      "Epoch [234/250]: 100%|██████████| 5/5 [00:01<00:00,  4.06it/s, Train_Loss=0.89, Train_Accuracy=62.76%] \n"
     ]
    },
    {
     "name": "stdout",
     "output_type": "stream",
     "text": [
      "Val_Loss: 0.00   Val_Accuracy: 65.00\n"
     ]
    },
    {
     "name": "stderr",
     "output_type": "stream",
     "text": [
      "Epoch [235/250]: 100%|██████████| 5/5 [00:01<00:00,  4.09it/s, Train_Loss=0.9, Train_Accuracy=62.04%]  \n"
     ]
    },
    {
     "name": "stdout",
     "output_type": "stream",
     "text": [
      "Val_Loss: 0.00   Val_Accuracy: 66.60\n"
     ]
    },
    {
     "name": "stderr",
     "output_type": "stream",
     "text": [
      "Epoch [236/250]: 100%|██████████| 5/5 [00:01<00:00,  4.04it/s, Train_Loss=0.917, Train_Accuracy=60.92%]\n"
     ]
    },
    {
     "name": "stdout",
     "output_type": "stream",
     "text": [
      "Val_Loss: 0.00   Val_Accuracy: 67.60\n"
     ]
    },
    {
     "name": "stderr",
     "output_type": "stream",
     "text": [
      "Epoch [237/250]: 100%|██████████| 5/5 [00:01<00:00,  4.11it/s, Train_Loss=0.871, Train_Accuracy=62.64%]\n"
     ]
    },
    {
     "name": "stdout",
     "output_type": "stream",
     "text": [
      "Val_Loss: 0.00   Val_Accuracy: 68.00\n"
     ]
    },
    {
     "name": "stderr",
     "output_type": "stream",
     "text": [
      "Epoch [238/250]: 100%|██████████| 5/5 [00:01<00:00,  4.14it/s, Train_Loss=0.941, Train_Accuracy=61.52%]\n"
     ]
    },
    {
     "name": "stdout",
     "output_type": "stream",
     "text": [
      "Val_Loss: 0.00   Val_Accuracy: 67.00\n"
     ]
    },
    {
     "name": "stderr",
     "output_type": "stream",
     "text": [
      "Epoch [239/250]: 100%|██████████| 5/5 [00:01<00:00,  4.06it/s, Train_Loss=0.903, Train_Accuracy=63.28%]\n"
     ]
    },
    {
     "name": "stdout",
     "output_type": "stream",
     "text": [
      "Val_Loss: 0.00   Val_Accuracy: 65.80\n"
     ]
    },
    {
     "name": "stderr",
     "output_type": "stream",
     "text": [
      "Epoch [240/250]: 100%|██████████| 5/5 [00:01<00:00,  4.16it/s, Train_Loss=0.852, Train_Accuracy=62.68%]\n"
     ]
    },
    {
     "name": "stdout",
     "output_type": "stream",
     "text": [
      "Val_Loss: 0.00   Val_Accuracy: 67.40\n"
     ]
    },
    {
     "name": "stderr",
     "output_type": "stream",
     "text": [
      "Epoch [241/250]: 100%|██████████| 5/5 [00:01<00:00,  4.12it/s, Train_Loss=0.934, Train_Accuracy=61.08%]\n"
     ]
    },
    {
     "name": "stdout",
     "output_type": "stream",
     "text": [
      "Val_Loss: 0.00   Val_Accuracy: 67.60\n"
     ]
    },
    {
     "name": "stderr",
     "output_type": "stream",
     "text": [
      "Epoch [242/250]: 100%|██████████| 5/5 [00:01<00:00,  4.09it/s, Train_Loss=0.904, Train_Accuracy=63.00%]\n"
     ]
    },
    {
     "name": "stdout",
     "output_type": "stream",
     "text": [
      "Val_Loss: 0.00   Val_Accuracy: 68.20\n"
     ]
    },
    {
     "name": "stderr",
     "output_type": "stream",
     "text": [
      "Epoch [243/250]: 100%|██████████| 5/5 [00:01<00:00,  4.07it/s, Train_Loss=0.842, Train_Accuracy=62.96%]\n"
     ]
    },
    {
     "name": "stdout",
     "output_type": "stream",
     "text": [
      "Val_Loss: 0.00   Val_Accuracy: 67.60\n"
     ]
    },
    {
     "name": "stderr",
     "output_type": "stream",
     "text": [
      "Epoch [244/250]: 100%|██████████| 5/5 [00:01<00:00,  4.12it/s, Train_Loss=0.893, Train_Accuracy=61.88%]\n"
     ]
    },
    {
     "name": "stdout",
     "output_type": "stream",
     "text": [
      "Val_Loss: 0.00   Val_Accuracy: 66.00\n"
     ]
    },
    {
     "name": "stderr",
     "output_type": "stream",
     "text": [
      "Epoch [245/250]: 100%|██████████| 5/5 [00:01<00:00,  4.14it/s, Train_Loss=0.869, Train_Accuracy=61.88%]\n"
     ]
    },
    {
     "name": "stdout",
     "output_type": "stream",
     "text": [
      "Val_Loss: 0.00   Val_Accuracy: 66.20\n"
     ]
    },
    {
     "name": "stderr",
     "output_type": "stream",
     "text": [
      "Epoch [246/250]: 100%|██████████| 5/5 [00:01<00:00,  4.07it/s, Train_Loss=0.94, Train_Accuracy=60.96%] \n"
     ]
    },
    {
     "name": "stdout",
     "output_type": "stream",
     "text": [
      "Val_Loss: 0.00   Val_Accuracy: 67.20\n"
     ]
    },
    {
     "name": "stderr",
     "output_type": "stream",
     "text": [
      "Epoch [247/250]: 100%|██████████| 5/5 [00:01<00:00,  4.15it/s, Train_Loss=0.869, Train_Accuracy=63.08%]\n"
     ]
    },
    {
     "name": "stdout",
     "output_type": "stream",
     "text": [
      "Val_Loss: 0.00   Val_Accuracy: 66.40\n"
     ]
    },
    {
     "name": "stderr",
     "output_type": "stream",
     "text": [
      "Epoch [248/250]: 100%|██████████| 5/5 [00:01<00:00,  4.05it/s, Train_Loss=0.835, Train_Accuracy=62.48%]\n"
     ]
    },
    {
     "name": "stdout",
     "output_type": "stream",
     "text": [
      "Val_Loss: 0.00   Val_Accuracy: 66.40\n"
     ]
    },
    {
     "name": "stderr",
     "output_type": "stream",
     "text": [
      "Epoch [249/250]: 100%|██████████| 5/5 [00:01<00:00,  4.11it/s, Train_Loss=0.891, Train_Accuracy=62.20%]\n"
     ]
    },
    {
     "name": "stdout",
     "output_type": "stream",
     "text": [
      "Val_Loss: 0.00   Val_Accuracy: 67.00\n"
     ]
    }
   ],
   "source": [
    "from tqdm.auto import tqdm\n",
    "\n",
    "f = open('project2_cifar_with_data_aug_and_lr.txt', 'w')\n",
    "\n",
    "for epoch in range(epochs):\n",
    "    model.train()\n",
    "    loop = tqdm(enumerate(train_loader), total=len(train_loader))\n",
    "    total = 0\n",
    "    train_accuracy = 0.0\n",
    "    train_loss = 0.0\n",
    "    for i, (image, label) in loop:\n",
    "        image, label = image.to(device), label.to(device)\n",
    "        optimizer.zero_grad()\n",
    "        outputs = model(image)\n",
    "        loss = criterion(outputs, label)\n",
    "        loss.backward()\n",
    "        optimizer.step()\n",
    "\n",
    "        predict = outputs.argmax(dim=-1)\n",
    "        train_accuracy += (predict == label).sum().item()\n",
    "        total += label.shape[0]\n",
    "\n",
    "        loop.set_description('Epoch [{}/{}]'.format(epoch, epochs))\n",
    "        loop.set_postfix({\n",
    "                'Train_Loss': loss.item(),\n",
    "                'Train_Accuracy': '{:.2f}%'.format(100 * (train_accuracy / total))})\n",
    "\n",
    "\n",
    "    f.write('{:.2f} {:.2f} '.format(loss.item(), 100 * (train_accuracy / total)))\n",
    "\n",
    "    model.eval()\n",
    "    val_accuracy = 0.0\n",
    "    val_loss = 0.0\n",
    "    total = 0\n",
    "    with torch.no_grad():\n",
    "        for val_image, val_label in valid_loader:\n",
    "            val_image, val_label = val_image.to(device), val_label.to(device)\n",
    "            outputs = model(val_image)\n",
    "            loss = criterion(outputs, val_label)\n",
    "\n",
    "            predict = outputs.argmax(dim=-1)\n",
    "            val_accuracy += (predict == val_label).sum().item()\n",
    "            total += val_label.shape[0]\n",
    "\n",
    "        print('Val_Loss: {:.2f}   Val_Accuracy: {:.2f}'.format(\n",
    "           val_loss / total, 100 * (val_accuracy / total)))\n",
    "\n",
    "        f.write('{:.2f} {:.2f}\\n'.format(loss.item(), 100 * (val_accuracy / total)))\n",
    "\n",
    "\n",
    "\n",
    "    scheduler.step()\n",
    "\n",
    "f.close()"
   ]
  },
  {
   "cell_type": "code",
   "execution_count": 8,
   "metadata": {},
   "outputs": [],
   "source": [
    "# test_data = test_dataset('2', \n",
    "#                          transform=transforms.Compose([\n",
    "#                              transforms.ToTensor(),\n",
    "#                              transforms.Normalize((0.4914, 0.4822, 0.4465),\n",
    "#                                                   (0.2023, 0.1994, 0.2010))\n",
    "#                          ]))\n",
    "# test_loader = DataLoader(test_data, batch_size=1, shuffle=False)\n",
    "\n",
    "# with open('711183116.txt', 'w') as f:\n",
    "#     for img, file_name in test_loader:\n",
    "#         # print(img.shape)\n",
    "#         img = img.to(device)\n",
    "#         model.eval()\n",
    "#         with torch.no_grad():\n",
    "#             output = model(img)\n",
    "#             predict = output.argmax(dim=-1)\n",
    "\n",
    "#             print('{} {}\\n'.format(file_name[0].split('.')[0], predict.item()))\n",
    "#             f.write('{} {}\\n'.format(file_name[0].split('.')[0], predict.item()))\n"
   ]
  },
  {
   "cell_type": "code",
   "execution_count": null,
   "metadata": {},
   "outputs": [],
   "source": []
  }
 ],
 "metadata": {
  "kernelspec": {
   "display_name": "Python 3.8.13 ('base')",
   "language": "python",
   "name": "python3"
  },
  "language_info": {
   "codemirror_mode": {
    "name": "ipython",
    "version": 3
   },
   "file_extension": ".py",
   "mimetype": "text/x-python",
   "name": "python",
   "nbconvert_exporter": "python",
   "pygments_lexer": "ipython3",
   "version": "3.8.13"
  },
  "orig_nbformat": 4,
  "vscode": {
   "interpreter": {
    "hash": "f11f329b739e069ee571d9dc315b22363bc0f5d5f61058b9d390d5111cbd0926"
   }
  }
 },
 "nbformat": 4,
 "nbformat_minor": 2
}
