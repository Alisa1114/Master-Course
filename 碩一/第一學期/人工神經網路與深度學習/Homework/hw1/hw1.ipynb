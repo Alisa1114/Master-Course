{
 "cells": [
  {
   "cell_type": "markdown",
   "metadata": {
    "slideshow": {
     "slide_type": "slide"
    },
    "tags": []
   },
   "source": [
    "#### Import需要的library"
   ]
  },
  {
   "cell_type": "code",
   "execution_count": 1,
   "metadata": {
    "slideshow": {
     "slide_type": "subslide"
    },
    "tags": []
   },
   "outputs": [],
   "source": [
    "import numpy as np\n",
    "import random\n",
    "from sklearn.utils import shuffle\n",
    "from sklearn.preprocessing import OneHotEncoder\n",
    "from scipy.special import expit\n",
    "import cv2\n",
    "import os\n",
    "from os import listdir\n",
    "from os.path import isfile, join"
   ]
  },
  {
   "cell_type": "markdown",
   "metadata": {
    "slideshow": {
     "slide_type": "slide"
    },
    "tags": []
   },
   "source": [
    "#### 讀取dataset並回傳圖片跟label的函式\n",
    "* label_folders: 要讀取的labels\n",
    "* dataset_path: 要讀取的資料集路徑\n",
    "* preprocessing: 是否要做一些圖片的前處理，主要是把圖片轉成1D vector並normalize到0~1之間\n",
    "* encoding: 是否要對labels做one hot encoding"
   ]
  },
  {
   "cell_type": "code",
   "execution_count": 2,
   "metadata": {
    "slideshow": {
     "slide_type": "subslide"
    },
    "tags": []
   },
   "outputs": [],
   "source": [
    "def dataset(label_folders, dataset_path='MNIST/train', preprocessing=True, encoding=True, rotate=False):\n",
    "  img_list = []\n",
    "  label_list = []\n",
    "  enc = OneHotEncoder(handle_unknown='ignore')\n",
    "  label_folders = np.array(label_folders).reshape(-1, 1)\n",
    "  enc.fit(label_folders)\n",
    "  \n",
    "  # print(enc.categories_)\n",
    "\n",
    "  for l in label_folders:\n",
    "    labelPath = join(dataset_path, str(l.item()))\n",
    "    file_names = [f for f in listdir(labelPath) if isfile(join(labelPath, f))]\n",
    "\n",
    "    for file_name in file_names:\n",
    "      img_path = join(labelPath, file_name)\n",
    "      img = cv2.imread(img_path, cv2.IMREAD_GRAYSCALE)\n",
    "\n",
    "      if preprocessing:\n",
    "        if rotate:\n",
    "          img = cv2.rotate(img, cv2.ROTATE_180) # 不知為何助教給的圖片轉了180度，所以在這裡轉回來\n",
    "        img = img.reshape(-1).astype('float32')\n",
    "        img /= 255.0\n",
    "        \n",
    "      l_enc = l  \n",
    "      if encoding:\n",
    "        # print(l)\n",
    "        l_enc = enc.transform([l]).toarray()[0]\n",
    "        # print(l_enc)\n",
    "      \n",
    "      img_list.append(img)\n",
    "      label_list.append(l_enc)\n",
    "\n",
    "  return np.array(img_list), np.array(label_list)\n",
    "\n",
    "def test_dataset(dataset_path, preprocessing=True):\n",
    "  def takeSecond(elem):\n",
    "    return elem[1]\n",
    "  \n",
    "  data_list = []\n",
    "  \n",
    "  file_names = [f for f in listdir(dataset_path)]\n",
    "  file_names.sort()\n",
    "  \n",
    "  for file_name in file_names:\n",
    "    img_path = join(dataset_path, file_name) # 'mnist_testData/Tesing_data/0000.png'\n",
    "    img = cv2.imread(img_path, cv2.IMREAD_GRAYSCALE)\n",
    "    \n",
    "    if preprocessing:\n",
    "      img = cv2.rotate(img, cv2.ROTATE_180)\n",
    "      img = img.reshape(-1).astype('float32')\n",
    "      img /= 255.0\n",
    "    \n",
    "    data_list.append((img, file_name))\n",
    "    # data_list.sort(key=takeSecond)\n",
    "    \n",
    "  return data_list"
   ]
  },
  {
   "cell_type": "markdown",
   "metadata": {
    "slideshow": {
     "slide_type": "slide"
    },
    "tags": []
   },
   "source": [
    "#### 讀取dataset，讓它回傳數字2, 4, 5, 6, 7的圖片和labels\n",
    "* images shape: [number of images, height * width]\n",
    "* labels shape: [number of labels, number of classes]"
   ]
  },
  {
   "cell_type": "code",
   "execution_count": 3,
   "metadata": {
    "slideshow": {
     "slide_type": "subslide"
    },
    "tags": []
   },
   "outputs": [],
   "source": [
    "from sklearn.model_selection import train_test_split\n",
    "classes = [2, 4, 5, 6, 7]\n",
    "training_images, training_labels = dataset(\n",
    "    classes, dataset_path='hw1/Training_data', rotate=True)\n",
    "\n",
    "valid_images, valid_labels = dataset(classes,\n",
    "                                     dataset_path='hw1/MNIST/valid',\n",
    "                                     encoding=False)\n"
   ]
  },
  {
   "cell_type": "code",
   "execution_count": 4,
   "metadata": {},
   "outputs": [
    {
     "name": "stdout",
     "output_type": "stream",
     "text": [
      "(20000, 784) (20000, 5) (4892, 784) (4892, 1)\n"
     ]
    }
   ],
   "source": [
    "print(training_images.shape, training_labels.shape, valid_images.shape,\n",
    "      valid_labels.shape)\n"
   ]
  },
  {
   "cell_type": "markdown",
   "metadata": {
    "slideshow": {
     "slide_type": "slide"
    },
    "tags": []
   },
   "source": [
    "#### $Sigmoid(x) = \\frac{1}{1 + \\exp^{-x}}$"
   ]
  },
  {
   "cell_type": "code",
   "execution_count": 5,
   "metadata": {
    "slideshow": {
     "slide_type": "subslide"
    },
    "tags": []
   },
   "outputs": [],
   "source": [
    "def sigmoid(x):\n",
    "  # return 1.0 / (1.0 + np.exp(-x))\n",
    "  return expit(x) # avoid overflow"
   ]
  },
  {
   "cell_type": "markdown",
   "metadata": {
    "slideshow": {
     "slide_type": "slide"
    },
    "tags": []
   },
   "source": [
    "#### 搭建model為一個class\n",
    "* feed_forward: 做feed forward\n",
    "* train_model: 丟入dataset和超參數來訓練模型\n",
    "* update: 利用back propagation更新模型\n",
    "* back_propagation: 計算$\\Delta w$和$\\Delta b$\n",
    "* predict: 預測圖片的label值\n",
    "* compute_cost: 計算error，也就是講義裡的$\\delta$"
   ]
  },
  {
   "cell_type": "code",
   "execution_count": 6,
   "metadata": {
    "slideshow": {
     "slide_type": "subslide"
    },
    "tags": []
   },
   "outputs": [],
   "source": [
    "from tqdm.auto import tqdm\n",
    "\n",
    "class neural_network():\n",
    "    def __init__(self, sizes):\n",
    "        \"\"\"suppose sizes=[2, 3, 4], weights would be [3, 2], [4, 3], biases would be [3, 1], [4, 1]\"\"\"\n",
    "        self.sizes = sizes\n",
    "        self.num_layer = len(self.sizes)\n",
    "        self.weights = [np.random.randn(self.sizes[i], self.sizes[i-1]) for i in range(1, self.num_layer)]\n",
    "        self.biases = [np.random.randn(self.sizes[i], 1) for i in range(1, self.num_layer)]\n",
    "        self.last_delta_w = [np.zeros((self.sizes[i], self.sizes[i-1])) for i in range(1, self.num_layer)]\n",
    "        self.last_delta_b = [np.zeros((self.sizes[i], 1)) for i in range(1, self.num_layer)]\n",
    "        self.momentum = 0.0\n",
    "\n",
    "    def feed_forward(self, a):\n",
    "        for w, b in zip(self.weights, self.biases):\n",
    "            a = sigmoid(np.dot(w, a) + b)\n",
    "\n",
    "        return a\n",
    "\n",
    "    def train_model(self, images, labels, num_epoch, learning_rate, batch_size, valid_images=None, valid_labels=None, momentum=0.0):\n",
    "        f = open('project1_acc.txt', 'w')\n",
    "\n",
    "        n = len(images)\n",
    "        self.momentum = momentum\n",
    "\n",
    "        for epoch in tqdm(range(num_epoch)):\n",
    "\n",
    "            images, labels = shuffle(images, labels)\n",
    "\n",
    "            mini_batches_images = [images[i:i+batch_size] for i in range(0, n, batch_size)]\n",
    "            mini_batches_labels = [labels[i:i+batch_size] for i in range(0, n, batch_size)]\n",
    "\n",
    "            for image, label in zip(mini_batches_images, mini_batches_labels):\n",
    "                self.update(learning_rate, image,label)\n",
    "\n",
    "            # Calculate test data accuracy\n",
    "            if valid_images is not None:\n",
    "                acc = 0.0\n",
    "                for image, label in zip(valid_images, valid_labels):\n",
    "                    result = self.predict(image)\n",
    "                    if classes[result] == label.item():\n",
    "                        acc += 1\n",
    "                print('Epoch {} / {}     Accuracy : {}'.format(epoch+1, num_epoch, acc/len(valid_images)))\n",
    "\n",
    "                f.write('{}\\n'.format((acc / len(valid_images))*100))\n",
    "\n",
    "        f.close()\n",
    "\n",
    "\n",
    "    def update(self, learning_rate, image, label):\n",
    "\n",
    "        delta_weight, delta_bias = self.back_propagation(image, label)\n",
    "\n",
    "        self.weights = [w + learning_rate * delta_w/len(image) for w, delta_w in zip(self.weights, delta_weight)]\n",
    "        self.biases = [b + learning_rate * delta_b/len(image) for b, delta_b in zip(self.biases, delta_bias)]\n",
    "\n",
    "        self.last_delta_w = [w for w in delta_weight]\n",
    "        self.last_delta_b = [b for b in delta_bias]\n",
    "\n",
    "\n",
    "    def back_propagation(self, image, label):\n",
    "        delta_weights = [np.zeros(w.shape) for w in self.weights]\n",
    "        delta_biases = [np.zeros(b.shape) for b in self.biases]\n",
    "\n",
    "        activations = [image.T]\n",
    "        activation = image.T\n",
    "\n",
    "        for w, b in zip(self.weights, self.biases):\n",
    "            activation = sigmoid(np.dot(w, activation) + b)\n",
    "            activations.append(activation)\n",
    "\n",
    "        delta = self.compute_cost(label.T, activations)\n",
    "\n",
    "        for i, (a_i, delta_j) in enumerate(zip(activations, delta)):\n",
    "            delta_weights[i] = self.momentum * self.last_delta_w[i] + delta_weights[i] + np.dot(delta_j, a_i.T)\n",
    "            delta_biases[i] = self.momentum * self.last_delta_b[i] + delta_biases[i] + delta_j.sum(axis=-1, keepdims=True)\n",
    "\n",
    "        return delta_weights, delta_biases\n",
    "\n",
    "    def predict(self, test_data):\n",
    "        # test_data: [784]\n",
    "        y = self.feed_forward(test_data[...,None]) # [784, 1] -> [10, 1]\n",
    "        results = np.argmax(y, axis=0) # [0.1, 0.3, 0.2, 0.4, 0.9, 0.4, 0.3, 0.4, 0.1, 0.5] -> [4]\n",
    "\n",
    "        return results.item() # 4\n",
    "\n",
    "    def compute_cost(self, label, activation):\n",
    "        delta = []\n",
    "        w = self.weights[::-1]\n",
    "        for i, a in enumerate(activation[-1:0:-1]): #從最後一個往回取到index=1\n",
    "\n",
    "            if i == 0:\n",
    "                delta.append((label - a) * a * (1.0 - a))\n",
    "            else:\n",
    "                delta.append(a * (1.0 - a) * (np.dot(w[i-1].T, delta[i-1])))\n",
    "\n",
    "        return delta[::-1]\n"
   ]
  },
  {
   "cell_type": "markdown",
   "metadata": {
    "slideshow": {
     "slide_type": "slide"
    },
    "tags": []
   },
   "source": [
    "#### 初始化並訓練模型"
   ]
  },
  {
   "cell_type": "code",
   "execution_count": 7,
   "metadata": {
    "slideshow": {
     "slide_type": "subslide"
    },
    "tags": []
   },
   "outputs": [
    {
     "name": "stderr",
     "output_type": "stream",
     "text": [
      "  2%|▏         | 1/50 [00:20<16:42, 20.46s/it]"
     ]
    },
    {
     "name": "stdout",
     "output_type": "stream",
     "text": [
      "Epoch 1 / 50     Accuracy : 0.7356909239574816\n"
     ]
    },
    {
     "name": "stderr",
     "output_type": "stream",
     "text": [
      "  4%|▍         | 2/50 [00:40<16:07, 20.16s/it]"
     ]
    },
    {
     "name": "stdout",
     "output_type": "stream",
     "text": [
      "Epoch 2 / 50     Accuracy : 0.8771463614063778\n"
     ]
    },
    {
     "name": "stderr",
     "output_type": "stream",
     "text": [
      "  6%|▌         | 3/50 [01:00<15:46, 20.14s/it]"
     ]
    },
    {
     "name": "stdout",
     "output_type": "stream",
     "text": [
      "Epoch 3 / 50     Accuracy : 0.9055600981193785\n"
     ]
    },
    {
     "name": "stderr",
     "output_type": "stream",
     "text": [
      "  8%|▊         | 4/50 [01:20<15:14, 19.89s/it]"
     ]
    },
    {
     "name": "stdout",
     "output_type": "stream",
     "text": [
      "Epoch 4 / 50     Accuracy : 0.9153720359771055\n"
     ]
    },
    {
     "name": "stderr",
     "output_type": "stream",
     "text": [
      " 10%|█         | 5/50 [01:39<14:43, 19.63s/it]"
     ]
    },
    {
     "name": "stdout",
     "output_type": "stream",
     "text": [
      "Epoch 5 / 50     Accuracy : 0.9221177432542927\n"
     ]
    },
    {
     "name": "stderr",
     "output_type": "stream",
     "text": [
      " 12%|█▏        | 6/50 [01:58<14:18, 19.50s/it]"
     ]
    },
    {
     "name": "stdout",
     "output_type": "stream",
     "text": [
      "Epoch 6 / 50     Accuracy : 0.9276369582992641\n"
     ]
    },
    {
     "name": "stderr",
     "output_type": "stream",
     "text": [
      " 14%|█▍        | 7/50 [02:17<13:58, 19.51s/it]"
     ]
    },
    {
     "name": "stdout",
     "output_type": "stream",
     "text": [
      "Epoch 7 / 50     Accuracy : 0.9298855273916599\n"
     ]
    },
    {
     "name": "stderr",
     "output_type": "stream",
     "text": [
      " 16%|█▌        | 8/50 [02:37<13:36, 19.43s/it]"
     ]
    },
    {
     "name": "stdout",
     "output_type": "stream",
     "text": [
      "Epoch 8 / 50     Accuracy : 0.9333605887162715\n"
     ]
    },
    {
     "name": "stderr",
     "output_type": "stream",
     "text": [
      " 18%|█▊        | 9/50 [02:56<13:14, 19.39s/it]"
     ]
    },
    {
     "name": "stdout",
     "output_type": "stream",
     "text": [
      "Epoch 9 / 50     Accuracy : 0.9347914963205233\n"
     ]
    },
    {
     "name": "stderr",
     "output_type": "stream",
     "text": [
      " 20%|██        | 10/50 [03:16<12:56, 19.42s/it]"
     ]
    },
    {
     "name": "stdout",
     "output_type": "stream",
     "text": [
      "Epoch 10 / 50     Accuracy : 0.9360179885527392\n"
     ]
    },
    {
     "name": "stderr",
     "output_type": "stream",
     "text": [
      " 22%|██▏       | 11/50 [03:35<12:38, 19.45s/it]"
     ]
    },
    {
     "name": "stdout",
     "output_type": "stream",
     "text": [
      "Epoch 11 / 50     Accuracy : 0.9366312346688471\n"
     ]
    },
    {
     "name": "stderr",
     "output_type": "stream",
     "text": [
      " 24%|██▍       | 12/50 [03:55<12:28, 19.69s/it]"
     ]
    },
    {
     "name": "stdout",
     "output_type": "stream",
     "text": [
      "Epoch 12 / 50     Accuracy : 0.9386753883892068\n"
     ]
    },
    {
     "name": "stderr",
     "output_type": "stream",
     "text": [
      " 26%|██▌       | 13/50 [04:15<12:06, 19.65s/it]"
     ]
    },
    {
     "name": "stdout",
     "output_type": "stream",
     "text": [
      "Epoch 13 / 50     Accuracy : 0.9380621422730989\n"
     ]
    },
    {
     "name": "stderr",
     "output_type": "stream",
     "text": [
      " 28%|██▊       | 14/50 [04:35<11:47, 19.66s/it]"
     ]
    },
    {
     "name": "stdout",
     "output_type": "stream",
     "text": [
      "Epoch 14 / 50     Accuracy : 0.9405151267375307\n"
     ]
    },
    {
     "name": "stderr",
     "output_type": "stream",
     "text": [
      " 30%|███       | 15/50 [04:54<11:24, 19.56s/it]"
     ]
    },
    {
     "name": "stdout",
     "output_type": "stream",
     "text": [
      "Epoch 15 / 50     Accuracy : 0.9409239574816026\n"
     ]
    },
    {
     "name": "stderr",
     "output_type": "stream",
     "text": [
      " 32%|███▏      | 16/50 [05:12<10:53, 19.21s/it]"
     ]
    },
    {
     "name": "stdout",
     "output_type": "stream",
     "text": [
      "Epoch 16 / 50     Accuracy : 0.9419460343417825\n"
     ]
    },
    {
     "name": "stderr",
     "output_type": "stream",
     "text": [
      " 34%|███▍      | 17/50 [05:31<10:27, 19.00s/it]"
     ]
    },
    {
     "name": "stdout",
     "output_type": "stream",
     "text": [
      "Epoch 17 / 50     Accuracy : 0.9425592804578904\n"
     ]
    },
    {
     "name": "stderr",
     "output_type": "stream",
     "text": [
      " 36%|███▌      | 18/50 [05:50<10:06, 18.95s/it]"
     ]
    },
    {
     "name": "stdout",
     "output_type": "stream",
     "text": [
      "Epoch 18 / 50     Accuracy : 0.9435813573180704\n"
     ]
    },
    {
     "name": "stderr",
     "output_type": "stream",
     "text": [
      " 38%|███▊      | 19/50 [06:09<09:51, 19.06s/it]"
     ]
    },
    {
     "name": "stdout",
     "output_type": "stream",
     "text": [
      "Epoch 19 / 50     Accuracy : 0.9429681112019623\n"
     ]
    },
    {
     "name": "stderr",
     "output_type": "stream",
     "text": [
      " 40%|████      | 20/50 [06:28<09:33, 19.12s/it]"
     ]
    },
    {
     "name": "stdout",
     "output_type": "stream",
     "text": [
      "Epoch 20 / 50     Accuracy : 0.9439901880621423\n"
     ]
    },
    {
     "name": "stderr",
     "output_type": "stream",
     "text": [
      " 42%|████▏     | 21/50 [06:47<09:12, 19.06s/it]"
     ]
    },
    {
     "name": "stdout",
     "output_type": "stream",
     "text": [
      "Epoch 21 / 50     Accuracy : 0.9439901880621423\n"
     ]
    },
    {
     "name": "stderr",
     "output_type": "stream",
     "text": [
      " 44%|████▍     | 22/50 [07:07<09:01, 19.35s/it]"
     ]
    },
    {
     "name": "stdout",
     "output_type": "stream",
     "text": [
      "Epoch 22 / 50     Accuracy : 0.9437857726901063\n"
     ]
    },
    {
     "name": "stderr",
     "output_type": "stream",
     "text": [
      " 46%|████▌     | 23/50 [07:26<08:40, 19.29s/it]"
     ]
    },
    {
     "name": "stdout",
     "output_type": "stream",
     "text": [
      "Epoch 23 / 50     Accuracy : 0.9431725265739984\n"
     ]
    },
    {
     "name": "stderr",
     "output_type": "stream",
     "text": [
      " 48%|████▊     | 24/50 [07:46<08:24, 19.40s/it]"
     ]
    },
    {
     "name": "stdout",
     "output_type": "stream",
     "text": [
      "Epoch 24 / 50     Accuracy : 0.9443990188062142\n"
     ]
    },
    {
     "name": "stderr",
     "output_type": "stream",
     "text": [
      " 50%|█████     | 25/50 [08:06<08:08, 19.52s/it]"
     ]
    },
    {
     "name": "stdout",
     "output_type": "stream",
     "text": [
      "Epoch 25 / 50     Accuracy : 0.9443990188062142\n"
     ]
    },
    {
     "name": "stderr",
     "output_type": "stream",
     "text": [
      " 52%|█████▏    | 26/50 [08:26<07:51, 19.65s/it]"
     ]
    },
    {
     "name": "stdout",
     "output_type": "stream",
     "text": [
      "Epoch 26 / 50     Accuracy : 0.9441946034341783\n"
     ]
    },
    {
     "name": "stderr",
     "output_type": "stream",
     "text": [
      " 54%|█████▍    | 27/50 [08:45<07:30, 19.57s/it]"
     ]
    },
    {
     "name": "stdout",
     "output_type": "stream",
     "text": [
      "Epoch 27 / 50     Accuracy : 0.9454210956663941\n"
     ]
    },
    {
     "name": "stderr",
     "output_type": "stream",
     "text": [
      " 56%|█████▌    | 28/50 [09:05<07:15, 19.79s/it]"
     ]
    },
    {
     "name": "stdout",
     "output_type": "stream",
     "text": [
      "Epoch 28 / 50     Accuracy : 0.946034341782502\n"
     ]
    },
    {
     "name": "stderr",
     "output_type": "stream",
     "text": [
      " 58%|█████▊    | 29/50 [09:25<06:56, 19.83s/it]"
     ]
    },
    {
     "name": "stdout",
     "output_type": "stream",
     "text": [
      "Epoch 29 / 50     Accuracy : 0.9466475878986099\n"
     ]
    },
    {
     "name": "stderr",
     "output_type": "stream",
     "text": [
      " 60%|██████    | 30/50 [09:45<06:38, 19.91s/it]"
     ]
    },
    {
     "name": "stdout",
     "output_type": "stream",
     "text": [
      "Epoch 30 / 50     Accuracy : 0.945829926410466\n"
     ]
    },
    {
     "name": "stderr",
     "output_type": "stream",
     "text": [
      " 62%|██████▏   | 31/50 [10:07<06:25, 20.31s/it]"
     ]
    },
    {
     "name": "stdout",
     "output_type": "stream",
     "text": [
      "Epoch 31 / 50     Accuracy : 0.945829926410466\n"
     ]
    },
    {
     "name": "stderr",
     "output_type": "stream",
     "text": [
      " 64%|██████▍   | 32/50 [10:27<06:07, 20.40s/it]"
     ]
    },
    {
     "name": "stdout",
     "output_type": "stream",
     "text": [
      "Epoch 32 / 50     Accuracy : 0.946443172526574\n"
     ]
    },
    {
     "name": "stderr",
     "output_type": "stream",
     "text": [
      " 66%|██████▌   | 33/50 [10:47<05:41, 20.11s/it]"
     ]
    },
    {
     "name": "stdout",
     "output_type": "stream",
     "text": [
      "Epoch 33 / 50     Accuracy : 0.9474652493867539\n"
     ]
    },
    {
     "name": "stderr",
     "output_type": "stream",
     "text": [
      " 68%|██████▊   | 34/50 [11:06<05:16, 19.80s/it]"
     ]
    },
    {
     "name": "stdout",
     "output_type": "stream",
     "text": [
      "Epoch 34 / 50     Accuracy : 0.9474652493867539\n"
     ]
    },
    {
     "name": "stderr",
     "output_type": "stream",
     "text": [
      " 70%|███████   | 35/50 [11:25<04:54, 19.66s/it]"
     ]
    },
    {
     "name": "stdout",
     "output_type": "stream",
     "text": [
      "Epoch 35 / 50     Accuracy : 0.947260834014718\n"
     ]
    },
    {
     "name": "stderr",
     "output_type": "stream",
     "text": [
      " 72%|███████▏  | 36/50 [11:45<04:34, 19.63s/it]"
     ]
    },
    {
     "name": "stdout",
     "output_type": "stream",
     "text": [
      "Epoch 36 / 50     Accuracy : 0.9478740801308259\n"
     ]
    },
    {
     "name": "stderr",
     "output_type": "stream",
     "text": [
      " 74%|███████▍  | 37/50 [12:06<04:20, 20.01s/it]"
     ]
    },
    {
     "name": "stdout",
     "output_type": "stream",
     "text": [
      "Epoch 37 / 50     Accuracy : 0.9480784955028618\n"
     ]
    },
    {
     "name": "stderr",
     "output_type": "stream",
     "text": [
      " 76%|███████▌  | 38/50 [12:25<03:57, 19.81s/it]"
     ]
    },
    {
     "name": "stdout",
     "output_type": "stream",
     "text": [
      "Epoch 38 / 50     Accuracy : 0.947056418642682\n"
     ]
    },
    {
     "name": "stderr",
     "output_type": "stream",
     "text": [
      " 78%|███████▊  | 39/50 [12:44<03:36, 19.69s/it]"
     ]
    },
    {
     "name": "stdout",
     "output_type": "stream",
     "text": [
      "Epoch 39 / 50     Accuracy : 0.947056418642682\n"
     ]
    },
    {
     "name": "stderr",
     "output_type": "stream",
     "text": [
      " 80%|████████  | 40/50 [13:05<03:20, 20.05s/it]"
     ]
    },
    {
     "name": "stdout",
     "output_type": "stream",
     "text": [
      "Epoch 40 / 50     Accuracy : 0.9478740801308259\n"
     ]
    },
    {
     "name": "stderr",
     "output_type": "stream",
     "text": [
      " 82%|████████▏ | 41/50 [13:27<03:04, 20.53s/it]"
     ]
    },
    {
     "name": "stdout",
     "output_type": "stream",
     "text": [
      "Epoch 41 / 50     Accuracy : 0.946852003270646\n"
     ]
    },
    {
     "name": "stderr",
     "output_type": "stream",
     "text": [
      " 84%|████████▍ | 42/50 [13:48<02:46, 20.76s/it]"
     ]
    },
    {
     "name": "stdout",
     "output_type": "stream",
     "text": [
      "Epoch 42 / 50     Accuracy : 0.9474652493867539\n"
     ]
    },
    {
     "name": "stderr",
     "output_type": "stream",
     "text": [
      " 86%|████████▌ | 43/50 [14:10<02:27, 21.01s/it]"
     ]
    },
    {
     "name": "stdout",
     "output_type": "stream",
     "text": [
      "Epoch 43 / 50     Accuracy : 0.9474652493867539\n"
     ]
    },
    {
     "name": "stderr",
     "output_type": "stream",
     "text": [
      " 88%|████████▊ | 44/50 [14:31<02:07, 21.20s/it]"
     ]
    },
    {
     "name": "stdout",
     "output_type": "stream",
     "text": [
      "Epoch 44 / 50     Accuracy : 0.947260834014718\n"
     ]
    },
    {
     "name": "stderr",
     "output_type": "stream",
     "text": [
      " 90%|█████████ | 45/50 [14:53<01:47, 21.40s/it]"
     ]
    },
    {
     "name": "stdout",
     "output_type": "stream",
     "text": [
      "Epoch 45 / 50     Accuracy : 0.947260834014718\n"
     ]
    },
    {
     "name": "stderr",
     "output_type": "stream",
     "text": [
      " 92%|█████████▏| 46/50 [15:15<01:25, 21.45s/it]"
     ]
    },
    {
     "name": "stdout",
     "output_type": "stream",
     "text": [
      "Epoch 46 / 50     Accuracy : 0.947260834014718\n"
     ]
    },
    {
     "name": "stderr",
     "output_type": "stream",
     "text": [
      " 94%|█████████▍| 47/50 [15:37<01:04, 21.59s/it]"
     ]
    },
    {
     "name": "stdout",
     "output_type": "stream",
     "text": [
      "Epoch 47 / 50     Accuracy : 0.9474652493867539\n"
     ]
    },
    {
     "name": "stderr",
     "output_type": "stream",
     "text": [
      " 96%|█████████▌| 48/50 [15:58<00:43, 21.50s/it]"
     ]
    },
    {
     "name": "stdout",
     "output_type": "stream",
     "text": [
      "Epoch 48 / 50     Accuracy : 0.946443172526574\n"
     ]
    },
    {
     "name": "stderr",
     "output_type": "stream",
     "text": [
      " 98%|█████████▊| 49/50 [16:19<00:21, 21.33s/it]"
     ]
    },
    {
     "name": "stdout",
     "output_type": "stream",
     "text": [
      "Epoch 49 / 50     Accuracy : 0.947260834014718\n"
     ]
    },
    {
     "name": "stderr",
     "output_type": "stream",
     "text": [
      "100%|██████████| 50/50 [16:40<00:00, 20.01s/it]"
     ]
    },
    {
     "name": "stdout",
     "output_type": "stream",
     "text": [
      "Epoch 50 / 50     Accuracy : 0.947260834014718\n"
     ]
    },
    {
     "name": "stderr",
     "output_type": "stream",
     "text": [
      "\n"
     ]
    }
   ],
   "source": [
    "model = neural_network([training_images.shape[-1], 1024, 256, 64, len(classes)])\n",
    "model.train_model(training_images, \n",
    "                  training_labels, \n",
    "                  num_epoch=50, \n",
    "                  learning_rate=0.1, \n",
    "                  batch_size=8,\n",
    "                  valid_images=valid_images,\n",
    "                  valid_labels=valid_labels,\n",
    "                  momentum=0.05)"
   ]
  },
  {
   "cell_type": "markdown",
   "metadata": {
    "slideshow": {
     "slide_type": "slide"
    },
    "tags": []
   },
   "source": [
    "#### 儲存模型權重\n",
    "~~但我自己沒測試過能不能用就是了~~"
   ]
  },
  {
   "cell_type": "code",
   "execution_count": 8,
   "metadata": {
    "slideshow": {
     "slide_type": "subslide"
    },
    "tags": []
   },
   "outputs": [],
   "source": [
    "# import pickle\n",
    "\n",
    "# checkpoint = {}\n",
    "# checkpoint['weights'] = model.weights\n",
    "# checkpoint['biases'] = model.biases\n",
    "\n",
    "# with open('checkpoint.pickle', 'wb') as f:\n",
    "#   pickle.dump(checkpoint, f)"
   ]
  },
  {
   "cell_type": "markdown",
   "metadata": {
    "slideshow": {
     "slide_type": "slide"
    },
    "tags": []
   },
   "source": [
    "#### 預測助教給的test set，並將結果寫進txt檔"
   ]
  },
  {
   "cell_type": "code",
   "execution_count": 9,
   "metadata": {
    "slideshow": {
     "slide_type": "subslide"
    },
    "tags": []
   },
   "outputs": [],
   "source": [
    "# import matplotlib.pyplot as plt\n",
    "# import random\n",
    "# from sklearn.utils import shuffle\n",
    "  \n",
    "# data_list = test_dataset('Testing_data1') # (image, file_name) * length of list\n",
    "\n",
    "# with open('711183116.txt', 'w') as f:\n",
    "#   for img, file_name in data_list:\n",
    "#     result = model.predict(img)\n",
    "#     print('{} {}\\n'.format(file_name.split('.')[0], classes[result]))\n",
    "#     f.write('{} {}\\n'.format(file_name.split('.')[0], classes[result]))"
   ]
  }
 ],
 "metadata": {
  "kernelspec": {
   "display_name": "Python 3",
   "language": "python",
   "name": "python3"
  },
  "language_info": {
   "codemirror_mode": {
    "name": "ipython",
    "version": 3
   },
   "file_extension": ".py",
   "mimetype": "text/x-python",
   "name": "python",
   "nbconvert_exporter": "python",
   "pygments_lexer": "ipython3",
   "version": "3.8.13"
  },
  "vscode": {
   "interpreter": {
    "hash": "f11f329b739e069ee571d9dc315b22363bc0f5d5f61058b9d390d5111cbd0926"
   }
  }
 },
 "nbformat": 4,
 "nbformat_minor": 4
}
